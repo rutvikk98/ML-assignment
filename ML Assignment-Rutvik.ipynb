{
 "cells": [
  {
   "cell_type": "code",
   "execution_count": 75,
   "metadata": {
    "executionInfo": {
     "elapsed": 585,
     "status": "ok",
     "timestamp": 1664819857827,
     "user": {
      "displayName": "Shreyash Jagdale",
      "userId": "16622866640788809189"
     },
     "user_tz": -330
    },
    "id": "6jf-kq1h119c"
   },
   "outputs": [],
   "source": [
    "import numpy as np\n",
    "import pandas as pd\n",
    "from numpy import math\n",
    "\n",
    "from sklearn.preprocessing import MinMaxScaler\n",
    "from sklearn.model_selection import train_test_split\n",
    "from sklearn.linear_model import LinearRegression\n",
    "from sklearn.metrics import r2_score\n",
    "from sklearn.metrics import mean_squared_error\n",
    "\n",
    "import matplotlib.pyplot as plt\n",
    "import seaborn as sns"
   ]
  },
  {
   "cell_type": "code",
   "execution_count": null,
   "metadata": {
    "colab": {
     "base_uri": "https://localhost:8080/"
    },
    "executionInfo": {
     "elapsed": 27063,
     "status": "ok",
     "timestamp": 1664819886891,
     "user": {
      "displayName": "Shreyash Jagdale",
      "userId": "16622866640788809189"
     },
     "user_tz": -330
    },
    "id": "TGaDSVjmDX5h",
    "outputId": "bae4d673-cb9b-46d4-f2f3-419eb5ebc124"
   },
   "outputs": [
    {
     "name": "stdout",
     "output_type": "stream",
     "text": [
      "Mounted at /content/drive\n"
     ]
    }
   ],
   "source": []
  },
  {
   "cell_type": "code",
   "execution_count": 76,
   "metadata": {
    "executionInfo": {
     "elapsed": 787,
     "status": "ok",
     "timestamp": 1664813100068,
     "user": {
      "displayName": "Shreyash Jagdale",
      "userId": "16622866640788809189"
     },
     "user_tz": -330
    },
    "id": "ojDD50S62AXP"
   },
   "outputs": [],
   "source": [
    "temp_df=pd.read_csv('RealEstate.csv')"
   ]
  },
  {
   "cell_type": "code",
   "execution_count": 77,
   "metadata": {
    "colab": {
     "base_uri": "https://localhost:8080/",
     "height": 268
    },
    "executionInfo": {
     "elapsed": 710,
     "status": "ok",
     "timestamp": 1664813104681,
     "user": {
      "displayName": "Shreyash Jagdale",
      "userId": "16622866640788809189"
     },
     "user_tz": -330
    },
    "id": "epev5PZT2Ak-",
    "outputId": "ab57136e-3813-4c57-ee91-0ebb03c29713"
   },
   "outputs": [
    {
     "data": {
      "text/html": [
       "<div>\n",
       "<style scoped>\n",
       "    .dataframe tbody tr th:only-of-type {\n",
       "        vertical-align: middle;\n",
       "    }\n",
       "\n",
       "    .dataframe tbody tr th {\n",
       "        vertical-align: top;\n",
       "    }\n",
       "\n",
       "    .dataframe thead th {\n",
       "        text-align: right;\n",
       "    }\n",
       "</style>\n",
       "<table border=\"1\" class=\"dataframe\">\n",
       "  <thead>\n",
       "    <tr style=\"text-align: right;\">\n",
       "      <th></th>\n",
       "      <th>No</th>\n",
       "      <th>X1 transaction date</th>\n",
       "      <th>X2 house age</th>\n",
       "      <th>X3 distance to the nearest MRT station</th>\n",
       "      <th>X4 number of convenience stores</th>\n",
       "      <th>X5 latitude</th>\n",
       "      <th>X6 longitude</th>\n",
       "      <th>Y house price of unit area</th>\n",
       "    </tr>\n",
       "  </thead>\n",
       "  <tbody>\n",
       "    <tr>\n",
       "      <th>0</th>\n",
       "      <td>1</td>\n",
       "      <td>2012.917</td>\n",
       "      <td>32.0</td>\n",
       "      <td>84.87882</td>\n",
       "      <td>10</td>\n",
       "      <td>24.98298</td>\n",
       "      <td>121.54024</td>\n",
       "      <td>37.9</td>\n",
       "    </tr>\n",
       "    <tr>\n",
       "      <th>1</th>\n",
       "      <td>2</td>\n",
       "      <td>2012.917</td>\n",
       "      <td>19.5</td>\n",
       "      <td>306.59470</td>\n",
       "      <td>9</td>\n",
       "      <td>24.98034</td>\n",
       "      <td>121.53951</td>\n",
       "      <td>42.2</td>\n",
       "    </tr>\n",
       "    <tr>\n",
       "      <th>2</th>\n",
       "      <td>3</td>\n",
       "      <td>2013.583</td>\n",
       "      <td>13.3</td>\n",
       "      <td>561.98450</td>\n",
       "      <td>5</td>\n",
       "      <td>24.98746</td>\n",
       "      <td>121.54391</td>\n",
       "      <td>47.3</td>\n",
       "    </tr>\n",
       "    <tr>\n",
       "      <th>3</th>\n",
       "      <td>4</td>\n",
       "      <td>2013.500</td>\n",
       "      <td>13.3</td>\n",
       "      <td>561.98450</td>\n",
       "      <td>5</td>\n",
       "      <td>24.98746</td>\n",
       "      <td>121.54391</td>\n",
       "      <td>54.8</td>\n",
       "    </tr>\n",
       "    <tr>\n",
       "      <th>4</th>\n",
       "      <td>5</td>\n",
       "      <td>2012.833</td>\n",
       "      <td>5.0</td>\n",
       "      <td>390.56840</td>\n",
       "      <td>5</td>\n",
       "      <td>24.97937</td>\n",
       "      <td>121.54245</td>\n",
       "      <td>43.1</td>\n",
       "    </tr>\n",
       "  </tbody>\n",
       "</table>\n",
       "</div>"
      ],
      "text/plain": [
       "   No  X1 transaction date  X2 house age  \\\n",
       "0   1             2012.917          32.0   \n",
       "1   2             2012.917          19.5   \n",
       "2   3             2013.583          13.3   \n",
       "3   4             2013.500          13.3   \n",
       "4   5             2012.833           5.0   \n",
       "\n",
       "   X3 distance to the nearest MRT station  X4 number of convenience stores  \\\n",
       "0                                84.87882                               10   \n",
       "1                               306.59470                                9   \n",
       "2                               561.98450                                5   \n",
       "3                               561.98450                                5   \n",
       "4                               390.56840                                5   \n",
       "\n",
       "   X5 latitude  X6 longitude  Y house price of unit area  \n",
       "0     24.98298     121.54024                        37.9  \n",
       "1     24.98034     121.53951                        42.2  \n",
       "2     24.98746     121.54391                        47.3  \n",
       "3     24.98746     121.54391                        54.8  \n",
       "4     24.97937     121.54245                        43.1  "
      ]
     },
     "execution_count": 77,
     "metadata": {},
     "output_type": "execute_result"
    }
   ],
   "source": [
    "temp_df.head()"
   ]
  },
  {
   "cell_type": "code",
   "execution_count": 78,
   "metadata": {
    "colab": {
     "base_uri": "https://localhost:8080/",
     "height": 268
    },
    "executionInfo": {
     "elapsed": 16,
     "status": "ok",
     "timestamp": 1664797690653,
     "user": {
      "displayName": "Shreyash Jagdale",
      "userId": "16622866640788809189"
     },
     "user_tz": -330
    },
    "id": "WbkgU0h93FzP",
    "outputId": "5045feba-c17b-4dbd-d7c8-aa74bcda8968"
   },
   "outputs": [
    {
     "data": {
      "text/html": [
       "<div>\n",
       "<style scoped>\n",
       "    .dataframe tbody tr th:only-of-type {\n",
       "        vertical-align: middle;\n",
       "    }\n",
       "\n",
       "    .dataframe tbody tr th {\n",
       "        vertical-align: top;\n",
       "    }\n",
       "\n",
       "    .dataframe thead th {\n",
       "        text-align: right;\n",
       "    }\n",
       "</style>\n",
       "<table border=\"1\" class=\"dataframe\">\n",
       "  <thead>\n",
       "    <tr style=\"text-align: right;\">\n",
       "      <th></th>\n",
       "      <th>No</th>\n",
       "      <th>X1 transaction date</th>\n",
       "      <th>X2 house age</th>\n",
       "      <th>X3 distance to the nearest MRT station</th>\n",
       "      <th>X4 number of convenience stores</th>\n",
       "      <th>X5 latitude</th>\n",
       "      <th>X6 longitude</th>\n",
       "      <th>Y house price of unit area</th>\n",
       "    </tr>\n",
       "  </thead>\n",
       "  <tbody>\n",
       "    <tr>\n",
       "      <th>409</th>\n",
       "      <td>410</td>\n",
       "      <td>2013.000</td>\n",
       "      <td>13.7</td>\n",
       "      <td>4082.01500</td>\n",
       "      <td>0</td>\n",
       "      <td>24.94155</td>\n",
       "      <td>121.50381</td>\n",
       "      <td>15.4</td>\n",
       "    </tr>\n",
       "    <tr>\n",
       "      <th>410</th>\n",
       "      <td>411</td>\n",
       "      <td>2012.667</td>\n",
       "      <td>5.6</td>\n",
       "      <td>90.45606</td>\n",
       "      <td>9</td>\n",
       "      <td>24.97433</td>\n",
       "      <td>121.54310</td>\n",
       "      <td>50.0</td>\n",
       "    </tr>\n",
       "    <tr>\n",
       "      <th>411</th>\n",
       "      <td>412</td>\n",
       "      <td>2013.250</td>\n",
       "      <td>18.8</td>\n",
       "      <td>390.96960</td>\n",
       "      <td>7</td>\n",
       "      <td>24.97923</td>\n",
       "      <td>121.53986</td>\n",
       "      <td>40.6</td>\n",
       "    </tr>\n",
       "    <tr>\n",
       "      <th>412</th>\n",
       "      <td>413</td>\n",
       "      <td>2013.000</td>\n",
       "      <td>8.1</td>\n",
       "      <td>104.81010</td>\n",
       "      <td>5</td>\n",
       "      <td>24.96674</td>\n",
       "      <td>121.54067</td>\n",
       "      <td>52.5</td>\n",
       "    </tr>\n",
       "    <tr>\n",
       "      <th>413</th>\n",
       "      <td>414</td>\n",
       "      <td>2013.500</td>\n",
       "      <td>6.5</td>\n",
       "      <td>90.45606</td>\n",
       "      <td>9</td>\n",
       "      <td>24.97433</td>\n",
       "      <td>121.54310</td>\n",
       "      <td>63.9</td>\n",
       "    </tr>\n",
       "  </tbody>\n",
       "</table>\n",
       "</div>"
      ],
      "text/plain": [
       "      No  X1 transaction date  X2 house age  \\\n",
       "409  410             2013.000          13.7   \n",
       "410  411             2012.667           5.6   \n",
       "411  412             2013.250          18.8   \n",
       "412  413             2013.000           8.1   \n",
       "413  414             2013.500           6.5   \n",
       "\n",
       "     X3 distance to the nearest MRT station  X4 number of convenience stores  \\\n",
       "409                              4082.01500                                0   \n",
       "410                                90.45606                                9   \n",
       "411                               390.96960                                7   \n",
       "412                               104.81010                                5   \n",
       "413                                90.45606                                9   \n",
       "\n",
       "     X5 latitude  X6 longitude  Y house price of unit area  \n",
       "409     24.94155     121.50381                        15.4  \n",
       "410     24.97433     121.54310                        50.0  \n",
       "411     24.97923     121.53986                        40.6  \n",
       "412     24.96674     121.54067                        52.5  \n",
       "413     24.97433     121.54310                        63.9  "
      ]
     },
     "execution_count": 78,
     "metadata": {},
     "output_type": "execute_result"
    }
   ],
   "source": [
    "temp_df.tail()"
   ]
  },
  {
   "cell_type": "code",
   "execution_count": 79,
   "metadata": {
    "colab": {
     "base_uri": "https://localhost:8080/"
    },
    "executionInfo": {
     "elapsed": 8,
     "status": "ok",
     "timestamp": 1664797691327,
     "user": {
      "displayName": "Shreyash Jagdale",
      "userId": "16622866640788809189"
     },
     "user_tz": -330
    },
    "id": "AcWoLFh43P22",
    "outputId": "b418b4c0-256c-44c9-8dcd-d3acb734ec10"
   },
   "outputs": [
    {
     "name": "stdout",
     "output_type": "stream",
     "text": [
      "<class 'pandas.core.frame.DataFrame'>\n",
      "RangeIndex: 414 entries, 0 to 413\n",
      "Data columns (total 8 columns):\n",
      " #   Column                                  Non-Null Count  Dtype  \n",
      "---  ------                                  --------------  -----  \n",
      " 0   No                                      414 non-null    int64  \n",
      " 1   X1 transaction date                     414 non-null    float64\n",
      " 2   X2 house age                            414 non-null    float64\n",
      " 3   X3 distance to the nearest MRT station  414 non-null    float64\n",
      " 4   X4 number of convenience stores         414 non-null    int64  \n",
      " 5   X5 latitude                             414 non-null    float64\n",
      " 6   X6 longitude                            414 non-null    float64\n",
      " 7   Y house price of unit area              414 non-null    float64\n",
      "dtypes: float64(6), int64(2)\n",
      "memory usage: 26.0 KB\n"
     ]
    }
   ],
   "source": [
    "temp_df.info()"
   ]
  },
  {
   "cell_type": "code",
   "execution_count": 80,
   "metadata": {
    "executionInfo": {
     "elapsed": 728,
     "status": "ok",
     "timestamp": 1664813111755,
     "user": {
      "displayName": "Shreyash Jagdale",
      "userId": "16622866640788809189"
     },
     "user_tz": -330
    },
    "id": "YiNenJ6L3T63"
   },
   "outputs": [],
   "source": [
    "df=temp_df.drop('No',axis=1)"
   ]
  },
  {
   "cell_type": "code",
   "execution_count": 81,
   "metadata": {
    "colab": {
     "base_uri": "https://localhost:8080/"
    },
    "executionInfo": {
     "elapsed": 8,
     "status": "ok",
     "timestamp": 1664797693217,
     "user": {
      "displayName": "Shreyash Jagdale",
      "userId": "16622866640788809189"
     },
     "user_tz": -330
    },
    "id": "2czYYq6D3ga1",
    "outputId": "0af21f02-6881-41b7-dd12-81e0dafceb0e"
   },
   "outputs": [
    {
     "data": {
      "text/plain": [
       "Index(['X1 transaction date', 'X2 house age',\n",
       "       'X3 distance to the nearest MRT station',\n",
       "       'X4 number of convenience stores', 'X5 latitude', 'X6 longitude',\n",
       "       'Y house price of unit area'],\n",
       "      dtype='object')"
      ]
     },
     "execution_count": 81,
     "metadata": {},
     "output_type": "execute_result"
    }
   ],
   "source": [
    "df.columns"
   ]
  },
  {
   "cell_type": "code",
   "execution_count": 82,
   "metadata": {
    "executionInfo": {
     "elapsed": 10,
     "status": "ok",
     "timestamp": 1664813114764,
     "user": {
      "displayName": "Shreyash Jagdale",
      "userId": "16622866640788809189"
     },
     "user_tz": -330
    },
    "id": "z9XagoEa3720"
   },
   "outputs": [],
   "source": [
    "df.rename(columns=\n",
    "          {'X1 transaction date' : 'transaction_date' ,\n",
    "           'X2 house age' : 'house_age' ,\n",
    "           'X3 distance to the nearest MRT station' : 'distance_to_the_nearest_MRT_station' ,\n",
    "           'X4 number of convenience stores' : 'number_of_convenience_stores' , \n",
    "           'X5 latitude' : 'latitude' ,\n",
    "           'X6 longitude' : 'longitude' ,\n",
    "           'Y house price of unit area' : 'house_price'\n",
    "          }\n",
    "          ,inplace=True)"
   ]
  },
  {
   "cell_type": "code",
   "execution_count": 83,
   "metadata": {
    "colab": {
     "base_uri": "https://localhost:8080/",
     "height": 333
    },
    "executionInfo": {
     "elapsed": 24,
     "status": "ok",
     "timestamp": 1664797695157,
     "user": {
      "displayName": "Shreyash Jagdale",
      "userId": "16622866640788809189"
     },
     "user_tz": -330
    },
    "id": "vLQmnMtV5pG2",
    "outputId": "b8eb152c-c0b3-4b97-b0bc-05d7d401631f"
   },
   "outputs": [
    {
     "data": {
      "text/html": [
       "<div>\n",
       "<style scoped>\n",
       "    .dataframe tbody tr th:only-of-type {\n",
       "        vertical-align: middle;\n",
       "    }\n",
       "\n",
       "    .dataframe tbody tr th {\n",
       "        vertical-align: top;\n",
       "    }\n",
       "\n",
       "    .dataframe thead th {\n",
       "        text-align: right;\n",
       "    }\n",
       "</style>\n",
       "<table border=\"1\" class=\"dataframe\">\n",
       "  <thead>\n",
       "    <tr style=\"text-align: right;\">\n",
       "      <th></th>\n",
       "      <th>transaction_date</th>\n",
       "      <th>house_age</th>\n",
       "      <th>distance_to_the_nearest_MRT_station</th>\n",
       "      <th>number_of_convenience_stores</th>\n",
       "      <th>latitude</th>\n",
       "      <th>longitude</th>\n",
       "      <th>house_price</th>\n",
       "    </tr>\n",
       "  </thead>\n",
       "  <tbody>\n",
       "    <tr>\n",
       "      <th>transaction_date</th>\n",
       "      <td>1.000000</td>\n",
       "      <td>0.017549</td>\n",
       "      <td>0.060880</td>\n",
       "      <td>0.009635</td>\n",
       "      <td>0.035058</td>\n",
       "      <td>-0.041082</td>\n",
       "      <td>0.087491</td>\n",
       "    </tr>\n",
       "    <tr>\n",
       "      <th>house_age</th>\n",
       "      <td>0.017549</td>\n",
       "      <td>1.000000</td>\n",
       "      <td>0.025622</td>\n",
       "      <td>0.049593</td>\n",
       "      <td>0.054420</td>\n",
       "      <td>-0.048520</td>\n",
       "      <td>-0.210567</td>\n",
       "    </tr>\n",
       "    <tr>\n",
       "      <th>distance_to_the_nearest_MRT_station</th>\n",
       "      <td>0.060880</td>\n",
       "      <td>0.025622</td>\n",
       "      <td>1.000000</td>\n",
       "      <td>-0.602519</td>\n",
       "      <td>-0.591067</td>\n",
       "      <td>-0.806317</td>\n",
       "      <td>-0.673613</td>\n",
       "    </tr>\n",
       "    <tr>\n",
       "      <th>number_of_convenience_stores</th>\n",
       "      <td>0.009635</td>\n",
       "      <td>0.049593</td>\n",
       "      <td>-0.602519</td>\n",
       "      <td>1.000000</td>\n",
       "      <td>0.444143</td>\n",
       "      <td>0.449099</td>\n",
       "      <td>0.571005</td>\n",
       "    </tr>\n",
       "    <tr>\n",
       "      <th>latitude</th>\n",
       "      <td>0.035058</td>\n",
       "      <td>0.054420</td>\n",
       "      <td>-0.591067</td>\n",
       "      <td>0.444143</td>\n",
       "      <td>1.000000</td>\n",
       "      <td>0.412924</td>\n",
       "      <td>0.546307</td>\n",
       "    </tr>\n",
       "    <tr>\n",
       "      <th>longitude</th>\n",
       "      <td>-0.041082</td>\n",
       "      <td>-0.048520</td>\n",
       "      <td>-0.806317</td>\n",
       "      <td>0.449099</td>\n",
       "      <td>0.412924</td>\n",
       "      <td>1.000000</td>\n",
       "      <td>0.523287</td>\n",
       "    </tr>\n",
       "    <tr>\n",
       "      <th>house_price</th>\n",
       "      <td>0.087491</td>\n",
       "      <td>-0.210567</td>\n",
       "      <td>-0.673613</td>\n",
       "      <td>0.571005</td>\n",
       "      <td>0.546307</td>\n",
       "      <td>0.523287</td>\n",
       "      <td>1.000000</td>\n",
       "    </tr>\n",
       "  </tbody>\n",
       "</table>\n",
       "</div>"
      ],
      "text/plain": [
       "                                     transaction_date  house_age  \\\n",
       "transaction_date                             1.000000   0.017549   \n",
       "house_age                                    0.017549   1.000000   \n",
       "distance_to_the_nearest_MRT_station          0.060880   0.025622   \n",
       "number_of_convenience_stores                 0.009635   0.049593   \n",
       "latitude                                     0.035058   0.054420   \n",
       "longitude                                   -0.041082  -0.048520   \n",
       "house_price                                  0.087491  -0.210567   \n",
       "\n",
       "                                     distance_to_the_nearest_MRT_station  \\\n",
       "transaction_date                                                0.060880   \n",
       "house_age                                                       0.025622   \n",
       "distance_to_the_nearest_MRT_station                             1.000000   \n",
       "number_of_convenience_stores                                   -0.602519   \n",
       "latitude                                                       -0.591067   \n",
       "longitude                                                      -0.806317   \n",
       "house_price                                                    -0.673613   \n",
       "\n",
       "                                     number_of_convenience_stores  latitude  \\\n",
       "transaction_date                                         0.009635  0.035058   \n",
       "house_age                                                0.049593  0.054420   \n",
       "distance_to_the_nearest_MRT_station                     -0.602519 -0.591067   \n",
       "number_of_convenience_stores                             1.000000  0.444143   \n",
       "latitude                                                 0.444143  1.000000   \n",
       "longitude                                                0.449099  0.412924   \n",
       "house_price                                              0.571005  0.546307   \n",
       "\n",
       "                                     longitude  house_price  \n",
       "transaction_date                     -0.041082     0.087491  \n",
       "house_age                            -0.048520    -0.210567  \n",
       "distance_to_the_nearest_MRT_station  -0.806317    -0.673613  \n",
       "number_of_convenience_stores          0.449099     0.571005  \n",
       "latitude                              0.412924     0.546307  \n",
       "longitude                             1.000000     0.523287  \n",
       "house_price                           0.523287     1.000000  "
      ]
     },
     "execution_count": 83,
     "metadata": {},
     "output_type": "execute_result"
    }
   ],
   "source": [
    "df.corr()"
   ]
  },
  {
   "cell_type": "code",
   "execution_count": 84,
   "metadata": {
    "colab": {
     "base_uri": "https://localhost:8080/",
     "height": 680
    },
    "executionInfo": {
     "elapsed": 1733,
     "status": "ok",
     "timestamp": 1664797720879,
     "user": {
      "displayName": "Shreyash Jagdale",
      "userId": "16622866640788809189"
     },
     "user_tz": -330
    },
    "id": "40ysFaym6yZu",
    "outputId": "5dbcf921-537a-414e-8a58-b18ea8f2f265"
   },
   "outputs": [
    {
     "data": {
      "text/plain": [
       "<AxesSubplot:>"
      ]
     },
     "execution_count": 84,
     "metadata": {},
     "output_type": "execute_result"
    },
    {
     "data": {
      "image/png": "[encoded data removed]",
      "text/plain": [
       "<Figure size 1080x720 with 2 Axes>"
      ]
     },
     "metadata": {
      "needs_background": "light"
     },
     "output_type": "display_data"
    }
   ],
   "source": [
    "sns.heatmap(df.corr(),annot = True)"
   ]
  },
  {
   "cell_type": "code",
   "execution_count": 85,
   "metadata": {
    "colab": {
     "base_uri": "https://localhost:8080/",
     "height": 624
    },
    "executionInfo": {
     "elapsed": 1394,
     "status": "ok",
     "timestamp": 1664790793797,
     "user": {
      "displayName": "Shreyash Jagdale",
      "userId": "16622866640788809189"
     },
     "user_tz": -330
    },
    "id": "JFpVfUCy8DqM",
    "outputId": "8a3536af-b109-4424-b7d5-d5107b2a4fa8"
   },
   "outputs": [
    {
     "data": {
      "text/plain": [
       "Text(0.5, 1.0, 'house_price vs longitude')"
      ]
     },
     "execution_count": 85,
     "metadata": {},
     "output_type": "execute_result"
    },
    {
     "data": {
      "image/png": "[encoded data removed]",
      "text/plain": [
       "<Figure size 1080x720 with 6 Axes>"
      ]
     },
     "metadata": {
      "needs_background": "light"
     },
     "output_type": "display_data"
    }
   ],
   "source": [
    "plt.rcParams['figure.figsize'] = [15,10]\n",
    "fig , axis = plt.subplots(2,3)\n",
    "axis[0,0].scatter(df.transaction_date,df.house_price)\n",
    "axis[0,0].set_title('house_price vs transaction_date')\n",
    "axis[0,1].scatter(df.house_age,df.house_price)\n",
    "axis[0,1].set_title('house_price vs house_age')\n",
    "axis[0,2].scatter(df.distance_to_the_nearest_MRT_station,df.house_price)\n",
    "axis[0,2].set_title('house_price vs distance_to_the_nearest_MRT_station')\n",
    "axis[1,0].scatter(df.number_of_convenience_stores,df.house_price)\n",
    "axis[1,0].set_title('house_price vs number_of_convenience_stores')\n",
    "axis[1,1].scatter(df.latitude,df.house_price)\n",
    "axis[1,1].set_title('house_price vs lattitude')\n",
    "axis[1,2].scatter(df.longitude,df.house_price)\n",
    "axis[1,2].set_title('house_price vs longitude')"
   ]
  },
  {
   "cell_type": "code",
   "execution_count": 86,
   "metadata": {
    "colab": {
     "base_uri": "https://localhost:8080/",
     "height": 624
    },
    "executionInfo": {
     "elapsed": 961,
     "status": "ok",
     "timestamp": 1664790796791,
     "user": {
      "displayName": "Shreyash Jagdale",
      "userId": "16622866640788809189"
     },
     "user_tz": -330
    },
    "id": "uNyqqu-CCpHo",
    "outputId": "c4492b91-2994-43a0-cb21-deb338b5d9e3"
   },
   "outputs": [
    {
     "data": {
      "text/plain": [
       "Text(0.5, 1.0, 'number_of_convenience_stores')"
      ]
     },
     "execution_count": 86,
     "metadata": {},
     "output_type": "execute_result"
    },
    {
     "data": {
      "image/png": "[encoded data removed]",
      "text/plain": [
       "<Figure size 1080x720 with 4 Axes>"
      ]
     },
     "metadata": {
      "needs_background": "light"
     },
     "output_type": "display_data"
    }
   ],
   "source": [
    "fig , axis = plt.subplots(2,2)\n",
    "axis[0,0].hist(df.house_price)\n",
    "axis[0,0].set_title('house price hist')\n",
    "axis[0,1].hist(df.house_age)\n",
    "axis[0,1].set_title('house age hist')\n",
    "axis[1,0].hist(df.distance_to_the_nearest_MRT_station)\n",
    "axis[1,0].set_title('distance_to_the_nearest_MRT_station his')\n",
    "axis[1,1].hist(df.number_of_convenience_stores)\n",
    "axis[1,1].set_title('number_of_convenience_stores')"
   ]
  },
  {
   "cell_type": "code",
   "execution_count": 87,
   "metadata": {
    "executionInfo": {
     "elapsed": 867,
     "status": "ok",
     "timestamp": 1664813128987,
     "user": {
      "displayName": "Shreyash Jagdale",
      "userId": "16622866640788809189"
     },
     "user_tz": -330
    },
    "id": "2AglpVEIK2x9"
   },
   "outputs": [],
   "source": [
    "distance_to_the_nearest_MRT_station = np.log10(df.distance_to_the_nearest_MRT_station)"
   ]
  },
  {
   "cell_type": "code",
   "execution_count": null,
   "metadata": {
    "colab": {
     "base_uri": "https://localhost:8080/",
     "height": 679
    },
    "executionInfo": {
     "elapsed": 459,
     "status": "ok",
     "timestamp": 1664790814401,
     "user": {
      "displayName": "Shreyash Jagdale",
      "userId": "16622866640788809189"
     },
     "user_tz": -330
    },
    "id": "EfW1hWT1K8w0",
    "outputId": "46fc22ba-497e-443b-c0d8-5a3225c25fd2"
   },
   "outputs": [
    {
     "data": {
      "text/plain": [
       "(array([ 2.,  6., 27., 44., 78., 94., 39., 54., 34., 36.]),\n",
       " array([1.36889726, 1.61321876, 1.85754026, 2.10186175, 2.34618325,\n",
       "        2.59050475, 2.83482625, 3.07914775, 3.32346925, 3.56779075,\n",
       "        3.81211225]),\n",
       " <a list of 10 Patch objects>)"
      ]
     },
     "execution_count": 109,
     "metadata": {},
     "output_type": "execute_result"
    },
    {
     "data": {
      "image/png": "[encoded data removed]",
      "text/plain": [
       "<Figure size 1080x720 with 1 Axes>"
      ]
     },
     "metadata": {
      "needs_background": "light"
     },
     "output_type": "display_data"
    }
   ],
   "source": [
    "plt.hist(distance_to_the_nearest_MRT_station)"
   ]
  },
  {
   "cell_type": "code",
   "execution_count": 88,
   "metadata": {
    "executionInfo": {
     "elapsed": 569,
     "status": "ok",
     "timestamp": 1664813135969,
     "user": {
      "displayName": "Shreyash Jagdale",
      "userId": "16622866640788809189"
     },
     "user_tz": -330
    },
    "id": "smUjsZq8Q_XR"
   },
   "outputs": [],
   "source": [
    "df['distance_to_the_nearest_MRT_station'] = distance_to_the_nearest_MRT_station"
   ]
  },
  {
   "cell_type": "code",
   "execution_count": 89,
   "metadata": {
    "colab": {
     "base_uri": "https://localhost:8080/",
     "height": 206
    },
    "executionInfo": {
     "elapsed": 14,
     "status": "ok",
     "timestamp": 1664813138897,
     "user": {
      "displayName": "Shreyash Jagdale",
      "userId": "16622866640788809189"
     },
     "user_tz": -330
    },
    "id": "hMBsjHEDP-iG",
    "outputId": "d3a3826b-7478-4cda-91a2-8db30eda11a2"
   },
   "outputs": [
    {
     "data": {
      "text/html": [
       "<div>\n",
       "<style scoped>\n",
       "    .dataframe tbody tr th:only-of-type {\n",
       "        vertical-align: middle;\n",
       "    }\n",
       "\n",
       "    .dataframe tbody tr th {\n",
       "        vertical-align: top;\n",
       "    }\n",
       "\n",
       "    .dataframe thead th {\n",
       "        text-align: right;\n",
       "    }\n",
       "</style>\n",
       "<table border=\"1\" class=\"dataframe\">\n",
       "  <thead>\n",
       "    <tr style=\"text-align: right;\">\n",
       "      <th></th>\n",
       "      <th>transaction_date</th>\n",
       "      <th>house_age</th>\n",
       "      <th>distance_to_the_nearest_MRT_station</th>\n",
       "      <th>number_of_convenience_stores</th>\n",
       "      <th>latitude</th>\n",
       "      <th>longitude</th>\n",
       "      <th>house_price</th>\n",
       "    </tr>\n",
       "  </thead>\n",
       "  <tbody>\n",
       "    <tr>\n",
       "      <th>0</th>\n",
       "      <td>2012.917</td>\n",
       "      <td>32.0</td>\n",
       "      <td>1.928799</td>\n",
       "      <td>10</td>\n",
       "      <td>24.98298</td>\n",
       "      <td>121.54024</td>\n",
       "      <td>37.9</td>\n",
       "    </tr>\n",
       "    <tr>\n",
       "      <th>1</th>\n",
       "      <td>2012.917</td>\n",
       "      <td>19.5</td>\n",
       "      <td>2.486565</td>\n",
       "      <td>9</td>\n",
       "      <td>24.98034</td>\n",
       "      <td>121.53951</td>\n",
       "      <td>42.2</td>\n",
       "    </tr>\n",
       "    <tr>\n",
       "      <th>2</th>\n",
       "      <td>2013.583</td>\n",
       "      <td>13.3</td>\n",
       "      <td>2.749724</td>\n",
       "      <td>5</td>\n",
       "      <td>24.98746</td>\n",
       "      <td>121.54391</td>\n",
       "      <td>47.3</td>\n",
       "    </tr>\n",
       "    <tr>\n",
       "      <th>3</th>\n",
       "      <td>2013.500</td>\n",
       "      <td>13.3</td>\n",
       "      <td>2.749724</td>\n",
       "      <td>5</td>\n",
       "      <td>24.98746</td>\n",
       "      <td>121.54391</td>\n",
       "      <td>54.8</td>\n",
       "    </tr>\n",
       "    <tr>\n",
       "      <th>4</th>\n",
       "      <td>2012.833</td>\n",
       "      <td>5.0</td>\n",
       "      <td>2.591697</td>\n",
       "      <td>5</td>\n",
       "      <td>24.97937</td>\n",
       "      <td>121.54245</td>\n",
       "      <td>43.1</td>\n",
       "    </tr>\n",
       "  </tbody>\n",
       "</table>\n",
       "</div>"
      ],
      "text/plain": [
       "   transaction_date  house_age  distance_to_the_nearest_MRT_station  \\\n",
       "0          2012.917       32.0                             1.928799   \n",
       "1          2012.917       19.5                             2.486565   \n",
       "2          2013.583       13.3                             2.749724   \n",
       "3          2013.500       13.3                             2.749724   \n",
       "4          2012.833        5.0                             2.591697   \n",
       "\n",
       "   number_of_convenience_stores  latitude  longitude  house_price  \n",
       "0                            10  24.98298  121.54024         37.9  \n",
       "1                             9  24.98034  121.53951         42.2  \n",
       "2                             5  24.98746  121.54391         47.3  \n",
       "3                             5  24.98746  121.54391         54.8  \n",
       "4                             5  24.97937  121.54245         43.1  "
      ]
     },
     "execution_count": 89,
     "metadata": {},
     "output_type": "execute_result"
    }
   ],
   "source": [
    "df.head()"
   ]
  },
  {
   "cell_type": "code",
   "execution_count": 90,
   "metadata": {
    "executionInfo": {
     "elapsed": 24,
     "status": "ok",
     "timestamp": 1664813142180,
     "user": {
      "displayName": "Shreyash Jagdale",
      "userId": "16622866640788809189"
     },
     "user_tz": -330
    },
    "id": "qpV_u6Kz99xT"
   },
   "outputs": [],
   "source": [
    "dependent_variable = 'house_price'\n",
    "independent_variables = list(set(df.columns.tolist()) - {dependent_variable})"
   ]
  },
  {
   "cell_type": "code",
   "execution_count": 91,
   "metadata": {
    "executionInfo": {
     "elapsed": 76,
     "status": "ok",
     "timestamp": 1664813146761,
     "user": {
      "displayName": "Shreyash Jagdale",
      "userId": "16622866640788809189"
     },
     "user_tz": -330
    },
    "id": "Z3jm9KybRukf"
   },
   "outputs": [],
   "source": [
    "features = ['house_age' , 'distance_to_the_nearest_MRT_station' , 'number_of_convenience_stores']"
   ]
  },
  {
   "cell_type": "code",
   "execution_count": 92,
   "metadata": {
    "executionInfo": {
     "elapsed": 10,
     "status": "ok",
     "timestamp": 1664813152428,
     "user": {
      "displayName": "Shreyash Jagdale",
      "userId": "16622866640788809189"
     },
     "user_tz": -330
    },
    "id": "_CHfug_xA9Py"
   },
   "outputs": [],
   "source": [
    "X = df[features].values\n",
    "y = df[dependent_variable].values"
   ]
  },
  {
   "cell_type": "code",
   "execution_count": 93,
   "metadata": {
    "executionInfo": {
     "elapsed": 7,
     "status": "ok",
     "timestamp": 1664813158569,
     "user": {
      "displayName": "Shreyash Jagdale",
      "userId": "16622866640788809189"
     },
     "user_tz": -330
    },
    "id": "LcNPizcXBRDf"
   },
   "outputs": [],
   "source": [
    "X_train , X_test , y_train , y_test = train_test_split( X , y , test_size = 0.33 , random_state= 1)"
   ]
  },
  {
   "cell_type": "code",
   "execution_count": 94,
   "metadata": {
    "colab": {
     "base_uri": "https://localhost:8080/"
    },
    "executionInfo": {
     "elapsed": 14,
     "status": "ok",
     "timestamp": 1664813164014,
     "user": {
      "displayName": "Shreyash Jagdale",
      "userId": "16622866640788809189"
     },
     "user_tz": -330
    },
    "id": "xIL0tr48D8jE",
    "outputId": "05229db0-49f5-403d-f018-52dda56f6fd4"
   },
   "outputs": [
    {
     "data": {
      "text/plain": [
       "array([[13.        ,  2.69216923,  5.        ],\n",
       "       [ 3.5       ,  2.87928958,  3.        ],\n",
       "       [ 6.5       ,  1.95643767,  9.        ],\n",
       "       [33.5       ,  3.29637359,  2.        ],\n",
       "       [25.6       ,  3.65510865,  0.        ],\n",
       "       [30.        ,  3.00575561,  5.        ],\n",
       "       [31.7       ,  3.06425352,  0.        ],\n",
       "       [ 4.1       ,  2.49540043,  5.        ],\n",
       "       [ 3.8       ,  2.58417557,  5.        ],\n",
       "       [ 8.9       ,  3.14811812,  0.        ]])"
      ]
     },
     "execution_count": 94,
     "metadata": {},
     "output_type": "execute_result"
    }
   ],
   "source": [
    "X_train[0:10]"
   ]
  },
  {
   "cell_type": "code",
   "execution_count": 95,
   "metadata": {
    "executionInfo": {
     "elapsed": 23,
     "status": "ok",
     "timestamp": 1664813168541,
     "user": {
      "displayName": "Shreyash Jagdale",
      "userId": "16622866640788809189"
     },
     "user_tz": -330
    },
    "id": "rA9Wy2LFERxQ"
   },
   "outputs": [],
   "source": [
    "scaler= MinMaxScaler()\n",
    "X_train = scaler.fit_transform(X_train)\n",
    "X_test = scaler.fit_transform(X_test)\n"
   ]
  },
  {
   "cell_type": "code",
   "execution_count": 96,
   "metadata": {
    "colab": {
     "base_uri": "https://localhost:8080/"
    },
    "executionInfo": {
     "elapsed": 27,
     "status": "ok",
     "timestamp": 1664813172333,
     "user": {
      "displayName": "Shreyash Jagdale",
      "userId": "16622866640788809189"
     },
     "user_tz": -330
    },
    "id": "qMupq29oFFz7",
    "outputId": "7f5a13ee-bb58-4a88-a346-4e97faa85f6c"
   },
   "outputs": [
    {
     "data": {
      "text/plain": [
       "array([[0.30444965, 0.54161094, 0.5       ],\n",
       "       [0.08196721, 0.6181987 , 0.3       ],\n",
       "       [0.15222482, 0.24047839, 0.9       ],\n",
       "       [0.78454333, 0.78890983, 0.2       ],\n",
       "       [0.59953162, 0.93573893, 0.        ],\n",
       "       [0.70257611, 0.66996084, 0.5       ],\n",
       "       [0.74238876, 0.69390384, 0.        ],\n",
       "       [0.09601874, 0.46107411, 0.5       ],\n",
       "       [0.08899297, 0.49740949, 0.5       ],\n",
       "       [0.20843091, 0.72822935, 0.        ]])"
      ]
     },
     "execution_count": 96,
     "metadata": {},
     "output_type": "execute_result"
    }
   ],
   "source": [
    "X_train[0:10]"
   ]
  },
  {
   "cell_type": "code",
   "execution_count": 97,
   "metadata": {
    "colab": {
     "base_uri": "https://localhost:8080/"
    },
    "executionInfo": {
     "elapsed": 6,
     "status": "ok",
     "timestamp": 1664813177239,
     "user": {
      "displayName": "Shreyash Jagdale",
      "userId": "16622866640788809189"
     },
     "user_tz": -330
    },
    "id": "DHUwDjxfFR-Q",
    "outputId": "970d3d3d-909e-40a5-87d1-d617a636b40a"
   },
   "outputs": [
    {
     "data": {
      "text/plain": [
       "LinearRegression()"
      ]
     },
     "execution_count": 97,
     "metadata": {},
     "output_type": "execute_result"
    }
   ],
   "source": [
    "model = LinearRegression()\n",
    "model.fit(X_train , y_train)"
   ]
  },
  {
   "cell_type": "code",
   "execution_count": 98,
   "metadata": {
    "colab": {
     "base_uri": "https://localhost:8080/"
    },
    "executionInfo": {
     "elapsed": 26,
     "status": "ok",
     "timestamp": 1664813180435,
     "user": {
      "displayName": "Shreyash Jagdale",
      "userId": "16622866640788809189"
     },
     "user_tz": -330
    },
    "id": "jqB5x-k1F8gF",
    "outputId": "8f602a73-3653-44e9-c6b0-a20c7d8e217a"
   },
   "outputs": [
    {
     "data": {
      "text/plain": [
       "59.90161953912226"
      ]
     },
     "execution_count": 98,
     "metadata": {},
     "output_type": "execute_result"
    }
   ],
   "source": [
    "model.intercept_"
   ]
  },
  {
   "cell_type": "code",
   "execution_count": 99,
   "metadata": {
    "colab": {
     "base_uri": "https://localhost:8080/"
    },
    "executionInfo": {
     "elapsed": 30,
     "status": "ok",
     "timestamp": 1664813186771,
     "user": {
      "displayName": "Shreyash Jagdale",
      "userId": "16622866640788809189"
     },
     "user_tz": -330
    },
    "id": "v0qtMNBsGFrj",
    "outputId": "167924fb-2173-4fcb-84f8-3f58ee4a272b"
   },
   "outputs": [
    {
     "data": {
      "text/plain": [
       "array([ -7.08467467, -39.44755771,   9.2565637 ])"
      ]
     },
     "execution_count": 99,
     "metadata": {},
     "output_type": "execute_result"
    }
   ],
   "source": [
    "model.coef_"
   ]
  },
  {
   "cell_type": "code",
   "execution_count": 100,
   "metadata": {
    "colab": {
     "base_uri": "https://localhost:8080/"
    },
    "executionInfo": {
     "elapsed": 65,
     "status": "ok",
     "timestamp": 1664813190874,
     "user": {
      "displayName": "Shreyash Jagdale",
      "userId": "16622866640788809189"
     },
     "user_tz": -330
    },
    "id": "7VIm-vitGQJz",
    "outputId": "d844392b-8cd4-4e32-df32-3607dfd2d8e7"
   },
   "outputs": [
    {
     "data": {
      "text/plain": [
       "array([41.00774584, 37.7114489 , 57.66777831, 25.07413186, 18.74151747,\n",
       "       33.12405946, 27.26922489, 45.66139244, 44.27782564, 29.69808501,\n",
       "       30.32062116, 47.35004525, 47.72804676, 34.00883763, 45.21714545,\n",
       "       45.38203326, 32.32255209, 45.92578954, 25.3410355 , 29.49004209,\n",
       "       29.31753986, 31.67514681, 47.72804676, 49.74868951, 54.80878182,\n",
       "       47.72804676, 21.05847759, 44.90627671, 30.30402942, 57.65118657,\n",
       "       42.45014628, 46.50087409, 41.27828283, 52.60054699, 44.06475169,\n",
       "       29.21273508, 30.42703185, 28.81732803, 43.42587711, 40.0618832 ,\n",
       "       36.79749564, 61.4445811 , 59.51788275, 27.40378833, 49.12482325,\n",
       "       43.64554896, 46.66187868, 40.4371548 , 39.43792367, 34.24888269,\n",
       "       23.96950877, 45.44425118, 38.85434983, 34.61693782, 48.59040912,\n",
       "       46.84117682, 52.66691396, 36.59435365, 40.95797061, 30.36593118,\n",
       "       28.44100112, 20.92574364, 66.13233797, 38.03206892, 42.86222884,\n",
       "       44.28150069, 41.2268123 , 30.31088965, 43.51173683, 29.58748279,\n",
       "       33.87784638, 50.45167354, 28.37008814, 29.07210282, 37.73188998,\n",
       "       19.127358  , 44.26490895, 17.26325573, 50.45167354, 57.68437005,\n",
       "       42.99843915, 57.80051226, 52.7166892 , 38.18058578, 36.97279626,\n",
       "       44.52847282, 27.26210433, 43.0048965 , 33.22608885, 33.66919593,\n",
       "       18.841542  , 19.92570425, 37.54360206, 44.67970255, 44.29262227,\n",
       "       29.70353468, 27.3446374 , 21.40140631, 28.87955567, 41.24340405,\n",
       "       36.02400309, 46.84934348, 43.68161815, 39.54653635, 50.46826529,\n",
       "       32.3082316 , 52.7166892 , 18.59256796, 30.36009364, 27.82279232,\n",
       "       44.16980211, 34.66406752, 39.9178378 , 45.93230848, 38.26675328,\n",
       "       61.37821413, 33.50804069, 43.2087812 , 48.40423651, 40.56482423,\n",
       "       37.21578653, 47.25049479, 30.34933944, 43.52539197, 44.87381   ,\n",
       "       35.83494138, 24.48515   , 31.61539124, 45.33637194, 16.35272399,\n",
       "       28.35379358, 28.9372708 , 43.67805911, 66.13233797, 21.02784859,\n",
       "       41.39663319, 42.34472511, 30.87268368, 44.2029856 , 32.97293349,\n",
       "       50.26615084, 35.01212241, 49.49116064, 50.11740004, 28.92151946,\n",
       "       45.38203326, 18.9945895 , 26.47206774, 44.21957734, 20.599334  ,\n",
       "       21.73529284, 47.36046295, 28.74440549, 37.14940386, 50.11740004,\n",
       "       47.50007135, 40.43935461, 26.89209902, 28.97752742, 43.93321811,\n",
       "       42.64338906, 44.2029856 , 21.52004637, 33.0884286 , 30.34407313,\n",
       "       45.68694673, 35.05220143, 31.8876818 , 57.68437005, 43.92410045,\n",
       "       29.81976721, 59.61743321, 32.67924328, 48.43766182, 28.34984179,\n",
       "       47.3770547 , 29.83013234, 28.00827805, 30.2942979 , 30.70909264,\n",
       "       27.4607796 , 30.33721291, 26.53843472, 47.22646162, 28.6766926 ,\n",
       "       40.02869972, 28.46728931, 44.25276083, 26.50757639, 31.87109005,\n",
       "       34.71648829, 20.88259974, 47.72688472, 29.18722344, 27.80183733,\n",
       "       38.50544859, 48.48743705, 46.67007459, 44.80440511, 20.92574364,\n",
       "       31.80472308, 40.90819538, 18.49275475, 29.33413161, 44.27524629,\n",
       "       42.89541233, 47.72804676, 25.16162144, 27.51055484, 21.41353555,\n",
       "       32.81956363, 32.38814219, 41.10082456, 36.09037007, 22.01840364,\n",
       "       40.25340057, 44.89743224, 31.52665988, 20.96555846, 27.76997824,\n",
       "       34.05687549, 30.6925009 , 33.32350198, 35.45649308, 30.32062116,\n",
       "       30.1926578 , 44.16980211, 44.39396785, 33.77958513, 38.09589335,\n",
       "       50.59605887, 40.02869972, 54.73980574, 19.05117899, 44.12334186,\n",
       "       18.69174224, 40.90819538, 34.13077029, 45.38203326, 31.90894001,\n",
       "       39.58679651, 47.39410406, 47.54216104, 46.95154979, 52.63373048,\n",
       "       29.89609605, 34.82063971, 41.56561714, 44.49024649, 32.37965437,\n",
       "       31.55984336, 26.39095361, 47.47579406, 44.50239763, 39.45722837,\n",
       "       38.35499281, 26.82573204, 57.76732877, 49.48308283, 45.78649719,\n",
       "       40.45374654, 34.14933223, 47.7600682 , 43.27991053, 33.58870969,\n",
       "       33.57440767, 44.37676487, 30.36066488, 42.20488851, 44.89265487,\n",
       "       44.30253606, 34.69725101, 17.29643922, 41.58663031, 28.93142796,\n",
       "       47.60852801, 30.34407313])"
      ]
     },
     "execution_count": 100,
     "metadata": {},
     "output_type": "execute_result"
    }
   ],
   "source": [
    "y_pred_train = model.predict(X_train)\n",
    "y_pred_train"
   ]
  },
  {
   "cell_type": "code",
   "execution_count": 101,
   "metadata": {
    "colab": {
     "base_uri": "https://localhost:8080/"
    },
    "executionInfo": {
     "elapsed": 33,
     "status": "ok",
     "timestamp": 1664813195742,
     "user": {
      "displayName": "Shreyash Jagdale",
      "userId": "16622866640788809189"
     },
     "user_tz": -330
    },
    "id": "soS6iAALNa0O",
    "outputId": "75d13fef-3762-4254-e768-558968c3e0a1"
   },
   "outputs": [
    {
     "data": {
      "text/plain": [
       "array([28.72962583, 54.1833968 , 22.45496857, 18.79878463, 46.60390354,\n",
       "       28.62419958, 26.83638674, 34.22945863, 41.51489827, 16.47867613,\n",
       "       17.19327742, 43.35792278, 30.02713012, 54.03547403, 63.03585615,\n",
       "       28.66032795, 46.60390354, 41.47239573, 27.01349167, 47.24506835,\n",
       "       62.74282865, 26.24870622, 41.95088896, 50.97267684, 44.6658737 ,\n",
       "       28.90893648, 28.65067863, 57.58628428, 46.30599724, 18.65145811,\n",
       "       29.88923412, 34.24255565, 38.04863866, 57.65098451, 53.62171006,\n",
       "       18.90196788, 40.9037898 , 40.54867101, 29.50483906, 18.75025946,\n",
       "       39.17373707, 27.63016812, 62.92263076, 29.26733918, 28.89077677,\n",
       "       32.0167672 , 28.01097079, 40.3123322 , 45.13813692, 33.77175822,\n",
       "       18.91814294, 53.75650641, 53.74747739, 19.1367098 , 52.0934452 ,\n",
       "       49.44984727, 46.60390354, 36.32595807, 42.31970453, 42.94476687,\n",
       "       27.53228522, 48.84194835, 29.18353437, 18.90196788, 40.0979489 ,\n",
       "       45.8219693 , 59.1204389 , 47.69081334, 19.15288486, 39.45642628,\n",
       "       47.56856948, 16.22577816, 35.03634721, 44.16713909, 63.08438132,\n",
       "       54.15826685, 38.17271912, 36.35830819, 47.93490397, 47.13184296,\n",
       "       41.45943208, 49.19497359, 59.9138401 , 37.04730615, 57.66715957,\n",
       "       62.97115593, 46.24129701, 30.81731498, 57.93412409, 18.66938418,\n",
       "       28.56980335, 50.6289518 , 53.72817537, 30.20215653, 50.35621093,\n",
       "       39.86311834, 26.28105633, 42.92859181, 50.85945144, 49.19497359,\n",
       "       21.70122883, 47.19654318, 26.72270223, 28.38858346, 41.43402299,\n",
       "       42.83154148, 46.65606514, 29.13053883, 39.25166668, 65.83126222,\n",
       "       46.9275435 , 62.98733099, 56.87187558, 45.590447  , 26.37680746,\n",
       "       55.39306082, 47.53621936, 42.8962417 , 48.54466256, 17.93317577,\n",
       "       49.57163778, 19.12053475, 34.74847494, 48.76107306, 39.18017389,\n",
       "       44.43874794, 45.72034536, 47.16419307, 41.81599803, 40.17574676,\n",
       "       29.50483906, 46.68841526, 44.33264036, 43.9126061 , 54.1833968 ,\n",
       "       46.31730878, 42.88006665])"
      ]
     },
     "execution_count": 101,
     "metadata": {},
     "output_type": "execute_result"
    }
   ],
   "source": [
    "y_pred = model.predict(X_test)\n",
    "y_pred"
   ]
  },
  {
   "cell_type": "code",
   "execution_count": 102,
   "metadata": {
    "colab": {
     "base_uri": "https://localhost:8080/",
     "height": 424
    },
    "executionInfo": {
     "elapsed": 65,
     "status": "ok",
     "timestamp": 1664813200055,
     "user": {
      "displayName": "Shreyash Jagdale",
      "userId": "16622866640788809189"
     },
     "user_tz": -330
    },
    "id": "S3gGtwNpNs0t",
    "outputId": "0ee93825-3688-46f6-bc7b-f4c575034ae0"
   },
   "outputs": [
    {
     "data": {
      "text/html": [
       "<div>\n",
       "<style scoped>\n",
       "    .dataframe tbody tr th:only-of-type {\n",
       "        vertical-align: middle;\n",
       "    }\n",
       "\n",
       "    .dataframe tbody tr th {\n",
       "        vertical-align: top;\n",
       "    }\n",
       "\n",
       "    .dataframe thead th {\n",
       "        text-align: right;\n",
       "    }\n",
       "</style>\n",
       "<table border=\"1\" class=\"dataframe\">\n",
       "  <thead>\n",
       "    <tr style=\"text-align: right;\">\n",
       "      <th></th>\n",
       "      <th>predicted</th>\n",
       "      <th>actual</th>\n",
       "    </tr>\n",
       "  </thead>\n",
       "  <tbody>\n",
       "    <tr>\n",
       "      <th>0</th>\n",
       "      <td>28.729626</td>\n",
       "      <td>27.3</td>\n",
       "    </tr>\n",
       "    <tr>\n",
       "      <th>1</th>\n",
       "      <td>54.183397</td>\n",
       "      <td>54.4</td>\n",
       "    </tr>\n",
       "    <tr>\n",
       "      <th>2</th>\n",
       "      <td>22.454969</td>\n",
       "      <td>22.0</td>\n",
       "    </tr>\n",
       "    <tr>\n",
       "      <th>3</th>\n",
       "      <td>18.798785</td>\n",
       "      <td>11.6</td>\n",
       "    </tr>\n",
       "    <tr>\n",
       "      <th>4</th>\n",
       "      <td>46.603904</td>\n",
       "      <td>45.4</td>\n",
       "    </tr>\n",
       "    <tr>\n",
       "      <th>...</th>\n",
       "      <td>...</td>\n",
       "      <td>...</td>\n",
       "    </tr>\n",
       "    <tr>\n",
       "      <th>132</th>\n",
       "      <td>44.332640</td>\n",
       "      <td>40.1</td>\n",
       "    </tr>\n",
       "    <tr>\n",
       "      <th>133</th>\n",
       "      <td>43.912606</td>\n",
       "      <td>41.6</td>\n",
       "    </tr>\n",
       "    <tr>\n",
       "      <th>134</th>\n",
       "      <td>54.183397</td>\n",
       "      <td>48.6</td>\n",
       "    </tr>\n",
       "    <tr>\n",
       "      <th>135</th>\n",
       "      <td>46.317309</td>\n",
       "      <td>42.4</td>\n",
       "    </tr>\n",
       "    <tr>\n",
       "      <th>136</th>\n",
       "      <td>42.880067</td>\n",
       "      <td>31.3</td>\n",
       "    </tr>\n",
       "  </tbody>\n",
       "</table>\n",
       "<p>137 rows × 2 columns</p>\n",
       "</div>"
      ],
      "text/plain": [
       "     predicted  actual\n",
       "0    28.729626    27.3\n",
       "1    54.183397    54.4\n",
       "2    22.454969    22.0\n",
       "3    18.798785    11.6\n",
       "4    46.603904    45.4\n",
       "..         ...     ...\n",
       "132  44.332640    40.1\n",
       "133  43.912606    41.6\n",
       "134  54.183397    48.6\n",
       "135  46.317309    42.4\n",
       "136  42.880067    31.3\n",
       "\n",
       "[137 rows x 2 columns]"
      ]
     },
     "execution_count": 102,
     "metadata": {},
     "output_type": "execute_result"
    }
   ],
   "source": [
    "test_results = pd.DataFrame( y_test, y_pred).reset_index()\n",
    "test_results.columns = ['predicted' , 'actual' ]\n",
    "test_results"
   ]
  },
  {
   "cell_type": "code",
   "execution_count": 103,
   "metadata": {
    "colab": {
     "base_uri": "https://localhost:8080/"
    },
    "executionInfo": {
     "elapsed": 28,
     "status": "ok",
     "timestamp": 1664813203443,
     "user": {
      "displayName": "Shreyash Jagdale",
      "userId": "16622866640788809189"
     },
     "user_tz": -330
    },
    "id": "hfpxA9qrQ8VO",
    "outputId": "eba226ee-457d-4a32-bcda-1aeffb752402"
   },
   "outputs": [
    {
     "data": {
      "text/plain": [
       "10.511648866660874"
      ]
     },
     "execution_count": 103,
     "metadata": {},
     "output_type": "execute_result"
    }
   ],
   "source": [
    "math.sqrt(mean_squared_error(y_test ,y_pred))"
   ]
  },
  {
   "cell_type": "code",
   "execution_count": 104,
   "metadata": {
    "colab": {
     "base_uri": "https://localhost:8080/"
    },
    "executionInfo": {
     "elapsed": 22,
     "status": "ok",
     "timestamp": 1664813203444,
     "user": {
      "displayName": "Shreyash Jagdale",
      "userId": "16622866640788809189"
     },
     "user_tz": -330
    },
    "id": "Z0BClRVuRRwS",
    "outputId": "19835f45-80aa-48c4-bb7b-9022dd5f8620"
   },
   "outputs": [
    {
     "data": {
      "text/plain": [
       "8.11349619791949"
      ]
     },
     "execution_count": 104,
     "metadata": {},
     "output_type": "execute_result"
    }
   ],
   "source": [
    "math.sqrt(mean_squared_error(y_train , y_pred_train))"
   ]
  },
  {
   "cell_type": "code",
   "execution_count": 105,
   "metadata": {
    "colab": {
     "base_uri": "https://localhost:8080/"
    },
    "executionInfo": {
     "elapsed": 8,
     "status": "ok",
     "timestamp": 1664813205063,
     "user": {
      "displayName": "Shreyash Jagdale",
      "userId": "16622866640788809189"
     },
     "user_tz": -330
    },
    "id": "oaHs7w6GRFTT",
    "outputId": "08a46ae4-7711-443a-c78c-db2e9239d19e"
   },
   "outputs": [
    {
     "data": {
      "text/plain": [
       "0.4913331693306856"
      ]
     },
     "execution_count": 105,
     "metadata": {},
     "output_type": "execute_result"
    }
   ],
   "source": [
    "r2_score(y_test , y_pred)"
   ]
  },
  {
   "cell_type": "code",
   "execution_count": 106,
   "metadata": {
    "colab": {
     "base_uri": "https://localhost:8080/"
    },
    "executionInfo": {
     "elapsed": 15,
     "status": "ok",
     "timestamp": 1664813210180,
     "user": {
      "displayName": "Shreyash Jagdale",
      "userId": "16622866640788809189"
     },
     "user_tz": -330
    },
    "id": "NdUjRm_uRg3r",
    "outputId": "f93b3b1f-7fea-4054-fe37-5bc73e5801f8"
   },
   "outputs": [
    {
     "data": {
      "text/plain": [
       "0.6092163061929772"
      ]
     },
     "execution_count": 106,
     "metadata": {},
     "output_type": "execute_result"
    }
   ],
   "source": [
    "r2_score(y_train , y_pred_train)"
   ]
  },
  {
   "cell_type": "code",
   "execution_count": null,
   "metadata": {
    "colab": {
     "base_uri": "https://localhost:8080/",
     "height": 165
    },
    "executionInfo": {
     "elapsed": 20,
     "status": "error",
     "timestamp": 1664813289939,
     "user": {
      "displayName": "Shreyash Jagdale",
      "userId": "16622866640788809189"
     },
     "user_tz": -330
    },
    "id": "UK_ko0AMVNbm",
    "outputId": "2c1bd753-8462-405e-f88f-aae221687e70"
   },
   "outputs": [],
   "source": []
  },
  {
   "cell_type": "code",
   "execution_count": null,
   "metadata": {
    "id": "yA4-WRlGVNvY"
   },
   "outputs": [],
   "source": []
  },
  {
   "cell_type": "code",
   "execution_count": 107,
   "metadata": {
    "executionInfo": {
     "elapsed": 545,
     "status": "ok",
     "timestamp": 1664791909600,
     "user": {
      "displayName": "Shreyash Jagdale",
      "userId": "16622866640788809189"
     },
     "user_tz": -330
    },
    "id": "NK9dRS8-SIMd"
   },
   "outputs": [],
   "source": [
    "import statsmodels.api as sm"
   ]
  },
  {
   "cell_type": "code",
   "execution_count": 108,
   "metadata": {
    "executionInfo": {
     "elapsed": 12,
     "status": "ok",
     "timestamp": 1664791911012,
     "user": {
      "displayName": "Shreyash Jagdale",
      "userId": "16622866640788809189"
     },
     "user_tz": -330
    },
    "id": "BGvob0t4SWpF"
   },
   "outputs": [],
   "source": [
    "mod = sm.OLS(y_train , X_train).fit()"
   ]
  },
  {
   "cell_type": "code",
   "execution_count": 109,
   "metadata": {
    "colab": {
     "base_uri": "https://localhost:8080/",
     "height": 490
    },
    "executionInfo": {
     "elapsed": 1178,
     "status": "ok",
     "timestamp": 1664792308865,
     "user": {
      "displayName": "Shreyash Jagdale",
      "userId": "16622866640788809189"
     },
     "user_tz": -330
    },
    "id": "Z1EctxDiTHco",
    "outputId": "b6f33645-dd0f-44cc-d8c7-9a6c978a8325"
   },
   "outputs": [
    {
     "data": {
      "text/html": [
       "<table class=\"simpletable\">\n",
       "<caption>OLS Regression Results</caption>\n",
       "<tr>\n",
       "  <th>Dep. Variable:</th>            <td>y</td>        <th>  R-squared (uncentered):</th>      <td>   0.893</td> \n",
       "</tr>\n",
       "<tr>\n",
       "  <th>Model:</th>                   <td>OLS</td>       <th>  Adj. R-squared (uncentered):</th> <td>   0.892</td> \n",
       "</tr>\n",
       "<tr>\n",
       "  <th>Method:</th>             <td>Least Squares</td>  <th>  F-statistic:       </th>          <td>   764.8</td> \n",
       "</tr>\n",
       "<tr>\n",
       "  <th>Date:</th>             <td>Wed, 12 Oct 2022</td> <th>  Prob (F-statistic):</th>          <td>8.82e-133</td>\n",
       "</tr>\n",
       "<tr>\n",
       "  <th>Time:</th>                 <td>21:44:56</td>     <th>  Log-Likelihood:    </th>          <td> -1104.4</td> \n",
       "</tr>\n",
       "<tr>\n",
       "  <th>No. Observations:</th>      <td>   277</td>      <th>  AIC:               </th>          <td>   2215.</td> \n",
       "</tr>\n",
       "<tr>\n",
       "  <th>Df Residuals:</th>          <td>   274</td>      <th>  BIC:               </th>          <td>   2226.</td> \n",
       "</tr>\n",
       "<tr>\n",
       "  <th>Df Model:</th>              <td>     3</td>      <th>                     </th>              <td> </td>    \n",
       "</tr>\n",
       "<tr>\n",
       "  <th>Covariance Type:</th>      <td>nonrobust</td>    <th>                     </th>              <td> </td>    \n",
       "</tr>\n",
       "</table>\n",
       "<table class=\"simpletable\">\n",
       "<tr>\n",
       "   <td></td>     <th>coef</th>     <th>std err</th>      <th>t</th>      <th>P>|t|</th>  <th>[0.025</th>    <th>0.975]</th>  \n",
       "</tr>\n",
       "<tr>\n",
       "  <th>x1</th> <td>   -0.3037</td> <td>    2.876</td> <td>   -0.106</td> <td> 0.916</td> <td>   -5.965</td> <td>    5.358</td>\n",
       "</tr>\n",
       "<tr>\n",
       "  <th>x2</th> <td>   27.5531</td> <td>    2.267</td> <td>   12.152</td> <td> 0.000</td> <td>   23.089</td> <td>   32.017</td>\n",
       "</tr>\n",
       "<tr>\n",
       "  <th>x3</th> <td>   48.6908</td> <td>    2.169</td> <td>   22.452</td> <td> 0.000</td> <td>   44.422</td> <td>   52.960</td>\n",
       "</tr>\n",
       "</table>\n",
       "<table class=\"simpletable\">\n",
       "<tr>\n",
       "  <th>Omnibus:</th>       <td> 9.592</td> <th>  Durbin-Watson:     </th> <td>   1.862</td>\n",
       "</tr>\n",
       "<tr>\n",
       "  <th>Prob(Omnibus):</th> <td> 0.008</td> <th>  Jarque-Bera (JB):  </th> <td>   9.902</td>\n",
       "</tr>\n",
       "<tr>\n",
       "  <th>Skew:</th>          <td> 0.463</td> <th>  Prob(JB):          </th> <td> 0.00708</td>\n",
       "</tr>\n",
       "<tr>\n",
       "  <th>Kurtosis:</th>      <td> 3.021</td> <th>  Cond. No.          </th> <td>    3.68</td>\n",
       "</tr>\n",
       "</table><br/><br/>Notes:<br/>[1] R² is computed without centering (uncentered) since the model does not contain a constant.<br/>[2] Standard Errors assume that the covariance matrix of the errors is correctly specified."
      ],
      "text/plain": [
       "<class 'statsmodels.iolib.summary.Summary'>\n",
       "\"\"\"\n",
       "                                 OLS Regression Results                                \n",
       "=======================================================================================\n",
       "Dep. Variable:                      y   R-squared (uncentered):                   0.893\n",
       "Model:                            OLS   Adj. R-squared (uncentered):              0.892\n",
       "Method:                 Least Squares   F-statistic:                              764.8\n",
       "Date:                Wed, 12 Oct 2022   Prob (F-statistic):                   8.82e-133\n",
       "Time:                        21:44:56   Log-Likelihood:                         -1104.4\n",
       "No. Observations:                 277   AIC:                                      2215.\n",
       "Df Residuals:                     274   BIC:                                      2226.\n",
       "Df Model:                           3                                                  \n",
       "Covariance Type:            nonrobust                                                  \n",
       "==============================================================================\n",
       "                 coef    std err          t      P>|t|      [0.025      0.975]\n",
       "------------------------------------------------------------------------------\n",
       "x1            -0.3037      2.876     -0.106      0.916      -5.965       5.358\n",
       "x2            27.5531      2.267     12.152      0.000      23.089      32.017\n",
       "x3            48.6908      2.169     22.452      0.000      44.422      52.960\n",
       "==============================================================================\n",
       "Omnibus:                        9.592   Durbin-Watson:                   1.862\n",
       "Prob(Omnibus):                  0.008   Jarque-Bera (JB):                9.902\n",
       "Skew:                           0.463   Prob(JB):                      0.00708\n",
       "Kurtosis:                       3.021   Cond. No.                         3.68\n",
       "==============================================================================\n",
       "\n",
       "Notes:\n",
       "[1] R² is computed without centering (uncentered) since the model does not contain a constant.\n",
       "[2] Standard Errors assume that the covariance matrix of the errors is correctly specified.\n",
       "\"\"\""
      ]
     },
     "execution_count": 109,
     "metadata": {},
     "output_type": "execute_result"
    }
   ],
   "source": [
    "mod.summary()"
   ]
  },
  {
   "cell_type": "code",
   "execution_count": 110,
   "metadata": {
    "colab": {
     "base_uri": "https://localhost:8080/"
    },
    "executionInfo": {
     "elapsed": 783,
     "status": "ok",
     "timestamp": 1664792321544,
     "user": {
      "displayName": "Shreyash Jagdale",
      "userId": "16622866640788809189"
     },
     "user_tz": -330
    },
    "id": "73QzDR-sZEaq",
    "outputId": "cc87632b-87f3-4b8d-ebe3-90d5d34639b7"
   },
   "outputs": [
    {
     "data": {
      "text/plain": [
       "array([42.5882261 , 36.95587893, 25.08827713, 26.79064082, 14.80373266,\n",
       "       31.11498439, 37.45965375, 38.42297052, 16.23580246, 32.21203999,\n",
       "       32.09663258, 40.95576126, 18.2644287 , 25.86006881, 46.74396053,\n",
       "       36.19766985, 14.80373266, 33.51985579, 37.45586399, 34.51177572,\n",
       "       50.97733211, 43.09796682, 52.27429138, 38.77878594, 37.36851372,\n",
       "       25.00476309, 37.52345712, 28.17606603, 36.47474847, 26.80960515,\n",
       "       37.26991687, 29.85239628, 29.50827558, 28.17883998, 46.44884812,\n",
       "       27.00636219, 37.65791951, 31.80275923, 20.14014427, 26.78856036,\n",
       "       48.95025173, 18.71552722, 46.73910612, 37.46446742, 31.1086573 ,\n",
       "       35.44813312, 31.50733464, 33.2029438 , 40.23994723, 24.50972278,\n",
       "       27.00705568, 43.60867938, 50.23381503, 26.83040975, 55.09443753,\n",
       "       53.16364924, 14.80373266, 25.91537759, 16.04539789, 37.87516407,\n",
       "       18.77190453, 11.71761662, 35.60438838, 27.00636219, 17.66918414,\n",
       "       54.7143372 , 33.90280743, 50.62739841, 26.83110324, 17.72155668,\n",
       "       34.52564546, 27.28076242, 23.81830189, 36.46976737, 46.74604099,\n",
       "       34.34732794, 39.00190794, 25.91676457, 12.32718071, 34.50692131,\n",
       "       39.56016398,  7.47831221, 51.20257089, 36.16698553, 28.17953346,\n",
       "       46.74118658, 36.47197452, 24.18743826, 52.6572988 , 26.78509292,\n",
       "       37.51998969, 39.57047056, 43.53253715, 24.79698046, 44.06547329,\n",
       "       33.50471659, 43.09935379, 37.87447058, 38.77393153,  7.47831221,\n",
       "       25.25500441, 34.50969526, 37.77888622, 34.79262796, 16.23233502,\n",
       "       37.87030966, 36.37413128, 37.56001888, 31.53353145, 34.05997447,\n",
       "       54.45775018, 46.74188007, 53.29132954, 14.21654075, 37.45689166,\n",
       "       40.17563379, 34.52425848, 37.87308361, 34.26356689, 26.55585212,\n",
       "       36.87945332, 26.82971627, 16.03392213, 11.71414918, 48.84982505,\n",
       "       46.11217317, 51.90778804, 34.50830829, 38.71154495, 53.43024239,\n",
       "       20.14014427, 36.37551825, 36.39014308, 43.81798279, 36.95587893,\n",
       "       35.47156638, 37.87239012])"
      ]
     },
     "execution_count": 110,
     "metadata": {},
     "output_type": "execute_result"
    }
   ],
   "source": [
    "mod.predict(X_test)"
   ]
  },
  {
   "cell_type": "code",
   "execution_count": null,
   "metadata": {
    "id": "HMk0mDENCPsN"
   },
   "outputs": [],
   "source": []
  },
  {
   "cell_type": "code",
   "execution_count": null,
   "metadata": {
    "id": "8cxktKXACP7X"
   },
   "outputs": [],
   "source": []
  },
  {
   "cell_type": "code",
   "execution_count": null,
   "metadata": {
    "id": "HrVSMFkXCQI3"
   },
   "outputs": [],
   "source": []
  },
  {
   "cell_type": "code",
   "execution_count": 112,
   "metadata": {
    "executionInfo": {
     "elapsed": 549,
     "status": "ok",
     "timestamp": 1664821021222,
     "user": {
      "displayName": "Shreyash Jagdale",
      "userId": "16622866640788809189"
     },
     "user_tz": -330
    },
    "id": "DfP9G0e3Kvus"
   },
   "outputs": [],
   "source": [
    "df = pd.read_csv('post-operative.csv',header=None)"
   ]
  },
  {
   "cell_type": "code",
   "execution_count": 113,
   "metadata": {
    "colab": {
     "base_uri": "https://localhost:8080/",
     "height": 206
    },
    "executionInfo": {
     "elapsed": 25,
     "status": "ok",
     "timestamp": 1664821023127,
     "user": {
      "displayName": "Shreyash Jagdale",
      "userId": "16622866640788809189"
     },
     "user_tz": -330
    },
    "id": "7feh5DkULPz5",
    "outputId": "3ab4b105-a336-409e-92ce-59254259fb63"
   },
   "outputs": [
    {
     "data": {
      "text/html": [
       "<div>\n",
       "<style scoped>\n",
       "    .dataframe tbody tr th:only-of-type {\n",
       "        vertical-align: middle;\n",
       "    }\n",
       "\n",
       "    .dataframe tbody tr th {\n",
       "        vertical-align: top;\n",
       "    }\n",
       "\n",
       "    .dataframe thead th {\n",
       "        text-align: right;\n",
       "    }\n",
       "</style>\n",
       "<table border=\"1\" class=\"dataframe\">\n",
       "  <thead>\n",
       "    <tr style=\"text-align: right;\">\n",
       "      <th></th>\n",
       "      <th>0</th>\n",
       "      <th>1</th>\n",
       "      <th>2</th>\n",
       "      <th>3</th>\n",
       "      <th>4</th>\n",
       "      <th>5</th>\n",
       "      <th>6</th>\n",
       "      <th>7</th>\n",
       "      <th>8</th>\n",
       "    </tr>\n",
       "  </thead>\n",
       "  <tbody>\n",
       "    <tr>\n",
       "      <th>0</th>\n",
       "      <td>mid</td>\n",
       "      <td>low</td>\n",
       "      <td>excellent</td>\n",
       "      <td>mid</td>\n",
       "      <td>stable</td>\n",
       "      <td>stable</td>\n",
       "      <td>stable</td>\n",
       "      <td>15</td>\n",
       "      <td>A</td>\n",
       "    </tr>\n",
       "    <tr>\n",
       "      <th>1</th>\n",
       "      <td>mid</td>\n",
       "      <td>high</td>\n",
       "      <td>excellent</td>\n",
       "      <td>high</td>\n",
       "      <td>stable</td>\n",
       "      <td>stable</td>\n",
       "      <td>stable</td>\n",
       "      <td>10</td>\n",
       "      <td>S</td>\n",
       "    </tr>\n",
       "    <tr>\n",
       "      <th>2</th>\n",
       "      <td>high</td>\n",
       "      <td>low</td>\n",
       "      <td>excellent</td>\n",
       "      <td>high</td>\n",
       "      <td>stable</td>\n",
       "      <td>stable</td>\n",
       "      <td>mod-stable</td>\n",
       "      <td>10</td>\n",
       "      <td>A</td>\n",
       "    </tr>\n",
       "    <tr>\n",
       "      <th>3</th>\n",
       "      <td>mid</td>\n",
       "      <td>low</td>\n",
       "      <td>good</td>\n",
       "      <td>high</td>\n",
       "      <td>stable</td>\n",
       "      <td>unstable</td>\n",
       "      <td>mod-stable</td>\n",
       "      <td>15</td>\n",
       "      <td>A</td>\n",
       "    </tr>\n",
       "    <tr>\n",
       "      <th>4</th>\n",
       "      <td>mid</td>\n",
       "      <td>mid</td>\n",
       "      <td>excellent</td>\n",
       "      <td>high</td>\n",
       "      <td>stable</td>\n",
       "      <td>stable</td>\n",
       "      <td>stable</td>\n",
       "      <td>10</td>\n",
       "      <td>A</td>\n",
       "    </tr>\n",
       "  </tbody>\n",
       "</table>\n",
       "</div>"
      ],
      "text/plain": [
       "      0     1          2     3       4         5           6   7   8\n",
       "0   mid   low  excellent   mid  stable    stable      stable  15   A\n",
       "1   mid  high  excellent  high  stable    stable      stable  10   S\n",
       "2  high   low  excellent  high  stable    stable  mod-stable  10   A\n",
       "3   mid   low       good  high  stable  unstable  mod-stable  15  A \n",
       "4   mid   mid  excellent  high  stable    stable      stable  10   A"
      ]
     },
     "execution_count": 113,
     "metadata": {},
     "output_type": "execute_result"
    }
   ],
   "source": [
    "df.head()"
   ]
  },
  {
   "cell_type": "code",
   "execution_count": 114,
   "metadata": {
    "colab": {
     "base_uri": "https://localhost:8080/"
    },
    "executionInfo": {
     "elapsed": 25,
     "status": "ok",
     "timestamp": 1664821025724,
     "user": {
      "displayName": "Shreyash Jagdale",
      "userId": "16622866640788809189"
     },
     "user_tz": -330
    },
    "id": "cuJtrfKrLuYV",
    "outputId": "82bd4d61-c2ea-48ef-9842-61f71d1718c8"
   },
   "outputs": [
    {
     "name": "stdout",
     "output_type": "stream",
     "text": [
      "<class 'pandas.core.frame.DataFrame'>\n",
      "RangeIndex: 90 entries, 0 to 89\n",
      "Data columns (total 9 columns):\n",
      " #   Column  Non-Null Count  Dtype \n",
      "---  ------  --------------  ----- \n",
      " 0   0       90 non-null     object\n",
      " 1   1       90 non-null     object\n",
      " 2   2       90 non-null     object\n",
      " 3   3       90 non-null     object\n",
      " 4   4       90 non-null     object\n",
      " 5   5       90 non-null     object\n",
      " 6   6       90 non-null     object\n",
      " 7   7       90 non-null     object\n",
      " 8   8       90 non-null     object\n",
      "dtypes: object(9)\n",
      "memory usage: 6.5+ KB\n"
     ]
    }
   ],
   "source": [
    "df.info()"
   ]
  },
  {
   "cell_type": "code",
   "execution_count": 115,
   "metadata": {
    "executionInfo": {
     "elapsed": 8,
     "status": "ok",
     "timestamp": 1664821028129,
     "user": {
      "displayName": "Shreyash Jagdale",
      "userId": "16622866640788809189"
     },
     "user_tz": -330
    },
    "id": "u_tpSnQmCmqB"
   },
   "outputs": [],
   "source": [
    "df.rename(columns=\n",
    "               {0 : 'core_temp' ,\n",
    "                1 : 'surf_temp' ,\n",
    "                2 : 'o2_satur' ,\n",
    "                3 : 'bp' ,\n",
    "                4 : 'surf_temp_stbl' ,\n",
    "                5 : 'core_temp_stbl' ,\n",
    "                6 : 'bp_stbl' ,\n",
    "                7 : 'comfort' ,\n",
    "                8 : 'decision'},inplace=True)"
   ]
  },
  {
   "cell_type": "code",
   "execution_count": 116,
   "metadata": {
    "colab": {
     "base_uri": "https://localhost:8080/"
    },
    "executionInfo": {
     "elapsed": 686,
     "status": "ok",
     "timestamp": 1664821033896,
     "user": {
      "displayName": "Shreyash Jagdale",
      "userId": "16622866640788809189"
     },
     "user_tz": -330
    },
    "id": "wxadHChJNGau",
    "outputId": "b8c363d5-c776-44e9-a8d8-40487759bab6"
   },
   "outputs": [
    {
     "name": "stdout",
     "output_type": "stream",
     "text": [
      "<class 'pandas.core.frame.DataFrame'>\n",
      "RangeIndex: 90 entries, 0 to 89\n",
      "Data columns (total 9 columns):\n",
      " #   Column          Non-Null Count  Dtype \n",
      "---  ------          --------------  ----- \n",
      " 0   core_temp       90 non-null     object\n",
      " 1   surf_temp       90 non-null     object\n",
      " 2   o2_satur        90 non-null     object\n",
      " 3   bp              90 non-null     object\n",
      " 4   surf_temp_stbl  90 non-null     object\n",
      " 5   core_temp_stbl  90 non-null     object\n",
      " 6   bp_stbl         90 non-null     object\n",
      " 7   comfort         90 non-null     object\n",
      " 8   decision        90 non-null     object\n",
      "dtypes: object(9)\n",
      "memory usage: 6.5+ KB\n"
     ]
    }
   ],
   "source": [
    "df.info()"
   ]
  },
  {
   "cell_type": "code",
   "execution_count": 117,
   "metadata": {
    "executionInfo": {
     "elapsed": 670,
     "status": "ok",
     "timestamp": 1664821036645,
     "user": {
      "displayName": "Shreyash Jagdale",
      "userId": "16622866640788809189"
     },
     "user_tz": -330
    },
    "id": "xxo3h-fSnO_l"
   },
   "outputs": [],
   "source": [
    "df['core_temp'] = df['core_temp'].replace({'high' : 2 , 'mid' : 1 ,'low' : 0})\n",
    "df['surf_temp'] = df['surf_temp'].replace({'high' : 2 , 'mid' : 1 ,'low' : 0})\n",
    "df['bp'] = df['bp'].replace({'high' : 2 , 'mid' : 1 ,'low' : 0})\n",
    "df['surf_temp_stbl'] = df['surf_temp_stbl'].replace({'stable' : 2 , 'mod_stable' : 1 ,'unstable' : 0})\n",
    "df['core_temp_stbl'] = df['core_temp_stbl'].replace({'stable' : 2 , 'mod_stable' : 1 ,'mod-stable' : 1 ,'unstable' : 0})\n",
    "df['bp_stbl'] = df['bp'].replace({'stable' : 2 , 'mod_stable' : 1 ,'unstable' : 0})\n",
    "df['o2_satur'] = df['o2_satur'].replace({'poor' : 0 , 'fair' : 1 , 'good' : 2 , 'excellent' : 3})\n",
    "df['decision'] = df['decision'].replace({'I' : 0 , 'A' : 1 ,'A ' : 1, 'S' : 2})"
   ]
  },
  {
   "cell_type": "code",
   "execution_count": 118,
   "metadata": {
    "colab": {
     "base_uri": "https://localhost:8080/"
    },
    "executionInfo": {
     "elapsed": 13,
     "status": "ok",
     "timestamp": 1664821038987,
     "user": {
      "displayName": "Shreyash Jagdale",
      "userId": "16622866640788809189"
     },
     "user_tz": -330
    },
    "id": "eC0itJNcnUTL",
    "outputId": "f1368389-4a9a-4b77-c5e7-0c5b8fb2f340"
   },
   "outputs": [
    {
     "name": "stdout",
     "output_type": "stream",
     "text": [
      "<class 'pandas.core.frame.DataFrame'>\n",
      "RangeIndex: 90 entries, 0 to 89\n",
      "Data columns (total 9 columns):\n",
      " #   Column          Non-Null Count  Dtype \n",
      "---  ------          --------------  ----- \n",
      " 0   core_temp       90 non-null     int64 \n",
      " 1   surf_temp       90 non-null     int64 \n",
      " 2   o2_satur        90 non-null     int64 \n",
      " 3   bp              90 non-null     int64 \n",
      " 4   surf_temp_stbl  90 non-null     int64 \n",
      " 5   core_temp_stbl  90 non-null     int64 \n",
      " 6   bp_stbl         90 non-null     int64 \n",
      " 7   comfort         90 non-null     object\n",
      " 8   decision        90 non-null     int64 \n",
      "dtypes: int64(8), object(1)\n",
      "memory usage: 6.5+ KB\n"
     ]
    }
   ],
   "source": [
    "df.info()"
   ]
  },
  {
   "cell_type": "code",
   "execution_count": 119,
   "metadata": {
    "colab": {
     "base_uri": "https://localhost:8080/"
    },
    "executionInfo": {
     "elapsed": 729,
     "status": "ok",
     "timestamp": 1664821053777,
     "user": {
      "displayName": "Shreyash Jagdale",
      "userId": "16622866640788809189"
     },
     "user_tz": -330
    },
    "id": "pjo4FXkJimlF",
    "outputId": "170f6c6a-5407-4d06-d38f-45fe299c46ce"
   },
   "outputs": [
    {
     "data": {
      "text/plain": [
       "10    65\n",
       "15    19\n",
       "?      3\n",
       "05     2\n",
       "07     1\n",
       "Name: comfort, dtype: int64"
      ]
     },
     "execution_count": 119,
     "metadata": {},
     "output_type": "execute_result"
    }
   ],
   "source": [
    "df['comfort'].value_counts()"
   ]
  },
  {
   "cell_type": "code",
   "execution_count": 120,
   "metadata": {
    "colab": {
     "base_uri": "https://localhost:8080/"
    },
    "executionInfo": {
     "elapsed": 24,
     "status": "ok",
     "timestamp": 1664821056292,
     "user": {
      "displayName": "Shreyash Jagdale",
      "userId": "16622866640788809189"
     },
     "user_tz": -330
    },
    "id": "cfglSwA9jPEh",
    "outputId": "57762f72-9dc8-4889-bce6-4b10006a36bd"
   },
   "outputs": [
    {
     "name": "stderr",
     "output_type": "stream",
     "text": [
      "C:\\Users\\User\\AppData\\Local\\Temp\\ipykernel_16688\\3129749213.py:1: FutureWarning: The default value of regex will change from True to False in a future version. In addition, single character regular expressions will *not* be treated as literal strings when regex=True.\n",
      "  df['comfort'] = df['comfort'].str.replace('?' , '10').astype(int)\n"
     ]
    }
   ],
   "source": [
    "df['comfort'] = df['comfort'].str.replace('?' , '10').astype(int)"
   ]
  },
  {
   "cell_type": "code",
   "execution_count": 122,
   "metadata": {
    "colab": {
     "base_uri": "https://localhost:8080/"
    },
    "executionInfo": {
     "elapsed": 18,
     "status": "ok",
     "timestamp": 1664821058438,
     "user": {
      "displayName": "Shreyash Jagdale",
      "userId": "16622866640788809189"
     },
     "user_tz": -330
    },
    "id": "Xdx8VpBnk8Dz",
    "outputId": "1ec0fafa-f355-4391-a750-826685f6deb9"
   },
   "outputs": [
    {
     "name": "stdout",
     "output_type": "stream",
     "text": [
      "<class 'pandas.core.frame.DataFrame'>\n",
      "RangeIndex: 90 entries, 0 to 89\n",
      "Data columns (total 9 columns):\n",
      " #   Column          Non-Null Count  Dtype\n",
      "---  ------          --------------  -----\n",
      " 0   core_temp       90 non-null     int64\n",
      " 1   surf_temp       90 non-null     int64\n",
      " 2   o2_satur        90 non-null     int64\n",
      " 3   bp              90 non-null     int64\n",
      " 4   surf_temp_stbl  90 non-null     int64\n",
      " 5   core_temp_stbl  90 non-null     int64\n",
      " 6   bp_stbl         90 non-null     int64\n",
      " 7   comfort         90 non-null     int32\n",
      " 8   decision        90 non-null     int64\n",
      "dtypes: int32(1), int64(8)\n",
      "memory usage: 6.1 KB\n"
     ]
    }
   ],
   "source": [
    "df.info()"
   ]
  },
  {
   "cell_type": "code",
   "execution_count": 123,
   "metadata": {
    "colab": {
     "base_uri": "https://localhost:8080/",
     "height": 206
    },
    "executionInfo": {
     "elapsed": 772,
     "status": "ok",
     "timestamp": 1664822064842,
     "user": {
      "displayName": "Shreyash Jagdale",
      "userId": "16622866640788809189"
     },
     "user_tz": -330
    },
    "id": "v7IYgUh5mctP",
    "outputId": "1e486633-66e9-4738-cbb6-ccc61a75dc1f"
   },
   "outputs": [
    {
     "data": {
      "text/html": [
       "<div>\n",
       "<style scoped>\n",
       "    .dataframe tbody tr th:only-of-type {\n",
       "        vertical-align: middle;\n",
       "    }\n",
       "\n",
       "    .dataframe tbody tr th {\n",
       "        vertical-align: top;\n",
       "    }\n",
       "\n",
       "    .dataframe thead th {\n",
       "        text-align: right;\n",
       "    }\n",
       "</style>\n",
       "<table border=\"1\" class=\"dataframe\">\n",
       "  <thead>\n",
       "    <tr style=\"text-align: right;\">\n",
       "      <th></th>\n",
       "      <th>core_temp</th>\n",
       "      <th>surf_temp</th>\n",
       "      <th>o2_satur</th>\n",
       "      <th>bp</th>\n",
       "      <th>surf_temp_stbl</th>\n",
       "      <th>core_temp_stbl</th>\n",
       "      <th>bp_stbl</th>\n",
       "      <th>comfort</th>\n",
       "    </tr>\n",
       "  </thead>\n",
       "  <tbody>\n",
       "    <tr>\n",
       "      <th>0</th>\n",
       "      <td>0.112509</td>\n",
       "      <td>-1.345166</td>\n",
       "      <td>1.045478</td>\n",
       "      <td>-0.570352</td>\n",
       "      <td>1.0</td>\n",
       "      <td>0.284975</td>\n",
       "      <td>-0.570352</td>\n",
       "      <td>1.810021</td>\n",
       "    </tr>\n",
       "    <tr>\n",
       "      <th>1</th>\n",
       "      <td>0.112509</td>\n",
       "      <td>1.607638</td>\n",
       "      <td>1.045478</td>\n",
       "      <td>1.330821</td>\n",
       "      <td>1.0</td>\n",
       "      <td>0.284975</td>\n",
       "      <td>1.330821</td>\n",
       "      <td>-0.403320</td>\n",
       "    </tr>\n",
       "    <tr>\n",
       "      <th>2</th>\n",
       "      <td>1.800141</td>\n",
       "      <td>-1.345166</td>\n",
       "      <td>1.045478</td>\n",
       "      <td>1.330821</td>\n",
       "      <td>1.0</td>\n",
       "      <td>0.284975</td>\n",
       "      <td>1.330821</td>\n",
       "      <td>-0.403320</td>\n",
       "    </tr>\n",
       "    <tr>\n",
       "      <th>3</th>\n",
       "      <td>0.112509</td>\n",
       "      <td>-1.345166</td>\n",
       "      <td>-0.956501</td>\n",
       "      <td>1.330821</td>\n",
       "      <td>1.0</td>\n",
       "      <td>-3.660837</td>\n",
       "      <td>1.330821</td>\n",
       "      <td>1.810021</td>\n",
       "    </tr>\n",
       "    <tr>\n",
       "      <th>4</th>\n",
       "      <td>0.112509</td>\n",
       "      <td>0.131236</td>\n",
       "      <td>1.045478</td>\n",
       "      <td>1.330821</td>\n",
       "      <td>1.0</td>\n",
       "      <td>0.284975</td>\n",
       "      <td>1.330821</td>\n",
       "      <td>-0.403320</td>\n",
       "    </tr>\n",
       "  </tbody>\n",
       "</table>\n",
       "</div>"
      ],
      "text/plain": [
       "   core_temp  surf_temp  o2_satur        bp  surf_temp_stbl  core_temp_stbl  \\\n",
       "0   0.112509  -1.345166  1.045478 -0.570352             1.0        0.284975   \n",
       "1   0.112509   1.607638  1.045478  1.330821             1.0        0.284975   \n",
       "2   1.800141  -1.345166  1.045478  1.330821             1.0        0.284975   \n",
       "3   0.112509  -1.345166 -0.956501  1.330821             1.0       -3.660837   \n",
       "4   0.112509   0.131236  1.045478  1.330821             1.0        0.284975   \n",
       "\n",
       "    bp_stbl   comfort  \n",
       "0 -0.570352  1.810021  \n",
       "1  1.330821 -0.403320  \n",
       "2  1.330821 -0.403320  \n",
       "3  1.330821  1.810021  \n",
       "4  1.330821 -0.403320  "
      ]
     },
     "execution_count": 123,
     "metadata": {},
     "output_type": "execute_result"
    }
   ],
   "source": [
    "from sklearn.preprocessing import StandardScaler\n",
    " \n",
    "scaler = StandardScaler()\n",
    " \n",
    "scaler.fit(df.drop('decision', axis = 1))\n",
    "scaled_features = scaler.transform(df.drop('decision', axis = 1))\n",
    " \n",
    "df_feat = pd.DataFrame(scaled_features, columns = df.columns[:-1])\n",
    "df_feat.head()"
   ]
  },
  {
   "cell_type": "code",
   "execution_count": 124,
   "metadata": {
    "executionInfo": {
     "elapsed": 9,
     "status": "ok",
     "timestamp": 1664822066077,
     "user": {
      "displayName": "Shreyash Jagdale",
      "userId": "16622866640788809189"
     },
     "user_tz": -330
    },
    "id": "YpDgLT7oBO0p"
   },
   "outputs": [],
   "source": [
    "independent_variables = list(set(df_feat.columns.to_list()))"
   ]
  },
  {
   "cell_type": "code",
   "execution_count": 125,
   "metadata": {
    "executionInfo": {
     "elapsed": 793,
     "status": "ok",
     "timestamp": 1664823185411,
     "user": {
      "displayName": "Shreyash Jagdale",
      "userId": "16622866640788809189"
     },
     "user_tz": -330
    },
    "id": "du465qYahx1g"
   },
   "outputs": [],
   "source": [
    "X_train, X_test, y_train, y_test = train_test_split(\n",
    "      scaled_features, df['decision'], test_size = 0.25)"
   ]
  },
  {
   "cell_type": "code",
   "execution_count": 126,
   "metadata": {
    "colab": {
     "base_uri": "https://localhost:8080/"
    },
    "executionInfo": {
     "elapsed": 11,
     "status": "ok",
     "timestamp": 1664823187464,
     "user": {
      "displayName": "Shreyash Jagdale",
      "userId": "16622866640788809189"
     },
     "user_tz": -330
    },
    "id": "qkBBX_-OxbgG",
    "outputId": "0f0ce1fe-7d09-414f-e163-d5d2b8a261d5"
   },
   "outputs": [
    {
     "data": {
      "text/plain": [
       "array([[ 0.11250879,  0.13123574, -0.95650071,  1.33082093,  1.        ,\n",
       "         0.28497536,  1.33082093, -0.40331988],\n",
       "       [ 0.11250879,  0.13123574, -0.95650071, -0.57035183,  1.        ,\n",
       "         0.28497536, -0.57035183,  1.81002092],\n",
       "       [ 0.11250879,  0.13123574,  1.04547753, -0.57035183, -1.        ,\n",
       "         0.28497536, -0.57035183,  1.81002092],\n",
       "       [ 1.80014064,  1.60763785,  1.04547753, -0.57035183, -1.        ,\n",
       "         0.28497536, -0.57035183, -0.40331988],\n",
       "       [ 1.80014064,  0.13123574, -0.95650071, -2.47152458,  1.        ,\n",
       "         0.28497536, -2.47152458, -0.40331988],\n",
       "       [ 0.11250879,  0.13123574,  1.04547753, -0.57035183, -1.        ,\n",
       "         0.28497536, -0.57035183, -0.40331988],\n",
       "       [ 0.11250879,  0.13123574, -0.95650071, -0.57035183,  1.        ,\n",
       "         0.28497536, -0.57035183, -0.40331988],\n",
       "       [ 0.11250879,  0.13123574, -0.95650071, -0.57035183,  1.        ,\n",
       "         0.28497536, -0.57035183, -0.40331988],\n",
       "       [ 0.11250879,  0.13123574, -0.95650071,  1.33082093,  1.        ,\n",
       "         0.28497536,  1.33082093, -0.40331988],\n",
       "       [ 0.11250879, -1.34516637, -0.95650071,  1.33082093, -1.        ,\n",
       "         0.28497536,  1.33082093, -0.40331988],\n",
       "       [-1.57512306,  0.13123574, -0.95650071, -0.57035183,  1.        ,\n",
       "         0.28497536, -0.57035183,  1.81002092],\n",
       "       [-1.57512306,  0.13123574,  1.04547753,  1.33082093,  1.        ,\n",
       "         0.28497536,  1.33082093, -0.40331988],\n",
       "       [ 0.11250879, -1.34516637, -0.95650071,  1.33082093,  1.        ,\n",
       "        -3.66083733,  1.33082093,  1.81002092],\n",
       "       [ 0.11250879,  1.60763785,  1.04547753,  1.33082093,  1.        ,\n",
       "         0.28497536,  1.33082093, -0.40331988],\n",
       "       [ 0.11250879, -1.34516637,  1.04547753, -0.57035183,  1.        ,\n",
       "         0.28497536, -0.57035183,  1.81002092],\n",
       "       [-1.57512306,  0.13123574, -0.95650071,  1.33082093, -1.        ,\n",
       "         0.28497536,  1.33082093, -0.40331988],\n",
       "       [ 0.11250879,  0.13123574,  1.04547753, -0.57035183,  1.        ,\n",
       "         0.28497536, -0.57035183,  1.81002092],\n",
       "       [ 0.11250879, -1.34516637, -0.95650071,  1.33082093, -1.        ,\n",
       "         0.28497536,  1.33082093, -0.40331988],\n",
       "       [-1.57512306, -1.34516637, -0.95650071, -0.57035183, -1.        ,\n",
       "         0.28497536, -0.57035183, -0.40331988],\n",
       "       [ 0.11250879,  0.13123574,  1.04547753,  1.33082093,  1.        ,\n",
       "         0.28497536,  1.33082093, -0.40331988],\n",
       "       [ 0.11250879,  1.60763785, -0.95650071, -2.47152458, -1.        ,\n",
       "         0.28497536, -2.47152458, -0.40331988],\n",
       "       [-1.57512306,  0.13123574,  1.04547753,  1.33082093, -1.        ,\n",
       "         0.28497536,  1.33082093, -0.40331988],\n",
       "       [-1.57512306,  0.13123574, -0.95650071, -0.57035183, -1.        ,\n",
       "         0.28497536, -0.57035183, -0.40331988]])"
      ]
     },
     "execution_count": 126,
     "metadata": {},
     "output_type": "execute_result"
    }
   ],
   "source": [
    "X_test"
   ]
  },
  {
   "cell_type": "code",
   "execution_count": 127,
   "metadata": {
    "colab": {
     "base_uri": "https://localhost:8080/"
    },
    "executionInfo": {
     "elapsed": 19,
     "status": "ok",
     "timestamp": 1664823196768,
     "user": {
      "displayName": "Shreyash Jagdale",
      "userId": "16622866640788809189"
     },
     "user_tz": -330
    },
    "id": "t6adBOkEhx6t",
    "outputId": "5cd27042-66c0-403f-c16e-0fe0b01f5692"
   },
   "outputs": [
    {
     "data": {
      "text/plain": [
       "LogisticRegression(max_iter=10000, multi_class='multinomial')"
      ]
     },
     "execution_count": 127,
     "metadata": {},
     "output_type": "execute_result"
    }
   ],
   "source": [
    "from sklearn.linear_model import LogisticRegression\n",
    "\n",
    "model = LogisticRegression(multi_class='multinomial',fit_intercept=True, max_iter=10000)\n",
    "model.fit(X_train, y_train)"
   ]
  },
  {
   "cell_type": "code",
   "execution_count": 128,
   "metadata": {
    "executionInfo": {
     "elapsed": 9,
     "status": "ok",
     "timestamp": 1664823196769,
     "user": {
      "displayName": "Shreyash Jagdale",
      "userId": "16622866640788809189"
     },
     "user_tz": -330
    },
    "id": "YayDgMmtv8MP"
   },
   "outputs": [],
   "source": [
    "train_preds = model.predict_proba(X_train)\n",
    "test_preds = model.predict_proba(X_test)"
   ]
  },
  {
   "cell_type": "code",
   "execution_count": 129,
   "metadata": {
    "executionInfo": {
     "elapsed": 11,
     "status": "ok",
     "timestamp": 1664823196771,
     "user": {
      "displayName": "Shreyash Jagdale",
      "userId": "16622866640788809189"
     },
     "user_tz": -330
    },
    "id": "ZgLLmEm9wmbj"
   },
   "outputs": [],
   "source": [
    "train_class_preds = model.predict(X_train)\n",
    "test_class_preds = model.predict(X_test)"
   ]
  },
  {
   "cell_type": "code",
   "execution_count": 130,
   "metadata": {
    "executionInfo": {
     "elapsed": 38,
     "status": "ok",
     "timestamp": 1664823198642,
     "user": {
      "displayName": "Shreyash Jagdale",
      "userId": "16622866640788809189"
     },
     "user_tz": -330
    },
    "id": "RTsDRJMuyGYB"
   },
   "outputs": [],
   "source": [
    "table = pd.DataFrame(test_class_preds,y_test).reset_index()\n",
    "table.columns = ['predicted', 'actual']"
   ]
  },
  {
   "cell_type": "code",
   "execution_count": 131,
   "metadata": {
    "colab": {
     "base_uri": "https://localhost:8080/",
     "height": 771
    },
    "executionInfo": {
     "elapsed": 38,
     "status": "ok",
     "timestamp": 1664823198644,
     "user": {
      "displayName": "Shreyash Jagdale",
      "userId": "16622866640788809189"
     },
     "user_tz": -330
    },
    "id": "m9cVGeCyyyjQ",
    "outputId": "95414333-b973-434b-9eb4-6559e380612b"
   },
   "outputs": [
    {
     "data": {
      "text/html": [
       "<div>\n",
       "<style scoped>\n",
       "    .dataframe tbody tr th:only-of-type {\n",
       "        vertical-align: middle;\n",
       "    }\n",
       "\n",
       "    .dataframe tbody tr th {\n",
       "        vertical-align: top;\n",
       "    }\n",
       "\n",
       "    .dataframe thead th {\n",
       "        text-align: right;\n",
       "    }\n",
       "</style>\n",
       "<table border=\"1\" class=\"dataframe\">\n",
       "  <thead>\n",
       "    <tr style=\"text-align: right;\">\n",
       "      <th></th>\n",
       "      <th>predicted</th>\n",
       "      <th>actual</th>\n",
       "    </tr>\n",
       "  </thead>\n",
       "  <tbody>\n",
       "    <tr>\n",
       "      <th>0</th>\n",
       "      <td>1</td>\n",
       "      <td>1</td>\n",
       "    </tr>\n",
       "    <tr>\n",
       "      <th>1</th>\n",
       "      <td>1</td>\n",
       "      <td>1</td>\n",
       "    </tr>\n",
       "    <tr>\n",
       "      <th>2</th>\n",
       "      <td>2</td>\n",
       "      <td>1</td>\n",
       "    </tr>\n",
       "    <tr>\n",
       "      <th>3</th>\n",
       "      <td>1</td>\n",
       "      <td>1</td>\n",
       "    </tr>\n",
       "    <tr>\n",
       "      <th>4</th>\n",
       "      <td>1</td>\n",
       "      <td>2</td>\n",
       "    </tr>\n",
       "    <tr>\n",
       "      <th>5</th>\n",
       "      <td>1</td>\n",
       "      <td>1</td>\n",
       "    </tr>\n",
       "    <tr>\n",
       "      <th>6</th>\n",
       "      <td>2</td>\n",
       "      <td>1</td>\n",
       "    </tr>\n",
       "    <tr>\n",
       "      <th>7</th>\n",
       "      <td>1</td>\n",
       "      <td>1</td>\n",
       "    </tr>\n",
       "    <tr>\n",
       "      <th>8</th>\n",
       "      <td>2</td>\n",
       "      <td>1</td>\n",
       "    </tr>\n",
       "    <tr>\n",
       "      <th>9</th>\n",
       "      <td>1</td>\n",
       "      <td>1</td>\n",
       "    </tr>\n",
       "    <tr>\n",
       "      <th>10</th>\n",
       "      <td>2</td>\n",
       "      <td>1</td>\n",
       "    </tr>\n",
       "    <tr>\n",
       "      <th>11</th>\n",
       "      <td>1</td>\n",
       "      <td>1</td>\n",
       "    </tr>\n",
       "    <tr>\n",
       "      <th>12</th>\n",
       "      <td>1</td>\n",
       "      <td>2</td>\n",
       "    </tr>\n",
       "    <tr>\n",
       "      <th>13</th>\n",
       "      <td>2</td>\n",
       "      <td>1</td>\n",
       "    </tr>\n",
       "    <tr>\n",
       "      <th>14</th>\n",
       "      <td>1</td>\n",
       "      <td>1</td>\n",
       "    </tr>\n",
       "    <tr>\n",
       "      <th>15</th>\n",
       "      <td>0</td>\n",
       "      <td>1</td>\n",
       "    </tr>\n",
       "    <tr>\n",
       "      <th>16</th>\n",
       "      <td>1</td>\n",
       "      <td>1</td>\n",
       "    </tr>\n",
       "    <tr>\n",
       "      <th>17</th>\n",
       "      <td>1</td>\n",
       "      <td>1</td>\n",
       "    </tr>\n",
       "    <tr>\n",
       "      <th>18</th>\n",
       "      <td>1</td>\n",
       "      <td>1</td>\n",
       "    </tr>\n",
       "    <tr>\n",
       "      <th>19</th>\n",
       "      <td>1</td>\n",
       "      <td>1</td>\n",
       "    </tr>\n",
       "    <tr>\n",
       "      <th>20</th>\n",
       "      <td>1</td>\n",
       "      <td>1</td>\n",
       "    </tr>\n",
       "    <tr>\n",
       "      <th>21</th>\n",
       "      <td>2</td>\n",
       "      <td>1</td>\n",
       "    </tr>\n",
       "    <tr>\n",
       "      <th>22</th>\n",
       "      <td>1</td>\n",
       "      <td>1</td>\n",
       "    </tr>\n",
       "  </tbody>\n",
       "</table>\n",
       "</div>"
      ],
      "text/plain": [
       "    predicted  actual\n",
       "0           1       1\n",
       "1           1       1\n",
       "2           2       1\n",
       "3           1       1\n",
       "4           1       2\n",
       "5           1       1\n",
       "6           2       1\n",
       "7           1       1\n",
       "8           2       1\n",
       "9           1       1\n",
       "10          2       1\n",
       "11          1       1\n",
       "12          1       2\n",
       "13          2       1\n",
       "14          1       1\n",
       "15          0       1\n",
       "16          1       1\n",
       "17          1       1\n",
       "18          1       1\n",
       "19          1       1\n",
       "20          1       1\n",
       "21          2       1\n",
       "22          1       1"
      ]
     },
     "execution_count": 131,
     "metadata": {},
     "output_type": "execute_result"
    }
   ],
   "source": [
    "table"
   ]
  },
  {
   "cell_type": "code",
   "execution_count": 132,
   "metadata": {
    "executionInfo": {
     "elapsed": 44,
     "status": "ok",
     "timestamp": 1664823198657,
     "user": {
      "displayName": "Shreyash Jagdale",
      "userId": "16622866640788809189"
     },
     "user_tz": -330
    },
    "id": "WfhteHbyurbD"
   },
   "outputs": [],
   "source": [
    "from sklearn.metrics import accuracy_score, confusion_matrix"
   ]
  },
  {
   "cell_type": "code",
   "execution_count": 133,
   "metadata": {
    "colab": {
     "base_uri": "https://localhost:8080/"
    },
    "executionInfo": {
     "elapsed": 18,
     "status": "ok",
     "timestamp": 1664823199361,
     "user": {
      "displayName": "Shreyash Jagdale",
      "userId": "16622866640788809189"
     },
     "user_tz": -330
    },
    "id": "qtkArmHFvuSq",
    "outputId": "a4c32776-1ecb-4109-8694-0372bca3d045"
   },
   "outputs": [
    {
     "name": "stdout",
     "output_type": "stream",
     "text": [
      "The accuracy on train data is  0.7313432835820896\n",
      "The accuracy on test data is  0.6086956521739131\n"
     ]
    }
   ],
   "source": [
    "train_accuracy = accuracy_score(train_class_preds,y_train)\n",
    "test_accuracy = accuracy_score(test_class_preds,y_test)\n",
    "\n",
    "print(\"The accuracy on train data is \", train_accuracy)\n",
    "print(\"The accuracy on test data is \", test_accuracy)"
   ]
  },
  {
   "cell_type": "code",
   "execution_count": 134,
   "metadata": {
    "colab": {
     "base_uri": "https://localhost:8080/"
    },
    "executionInfo": {
     "elapsed": 16,
     "status": "ok",
     "timestamp": 1664823204378,
     "user": {
      "displayName": "Shreyash Jagdale",
      "userId": "16622866640788809189"
     },
     "user_tz": -330
    },
    "id": "FZsvPPVd0KhH",
    "outputId": "84c4c54d-ffdf-41f5-b386-f8b612aca587"
   },
   "outputs": [
    {
     "name": "stdout",
     "output_type": "stream",
     "text": [
      "[[ 0  1  0]\n",
      " [ 0 14  2]\n",
      " [ 0  6  0]]\n"
     ]
    }
   ],
   "source": [
    "cm = confusion_matrix(y_test, test_class_preds)\n",
    "print(cm)"
   ]
  },
  {
   "cell_type": "code",
   "execution_count": 135,
   "metadata": {
    "colab": {
     "base_uri": "https://localhost:8080/",
     "height": 489
    },
    "executionInfo": {
     "elapsed": 1999,
     "status": "ok",
     "timestamp": 1664823210273,
     "user": {
      "displayName": "Shreyash Jagdale",
      "userId": "16622866640788809189"
     },
     "user_tz": -330
    },
    "id": "QGenzQqf38UC",
    "outputId": "a62c6703-5057-4a7b-b1d9-da74a10fb09e"
   },
   "outputs": [
    {
     "data": {
      "text/plain": [
       "<AxesSubplot:>"
      ]
     },
     "execution_count": 135,
     "metadata": {},
     "output_type": "execute_result"
    },
    {
     "data": {
      "image/png": "[encoded data removed]",
      "text/plain": [
       "<Figure size 1080x720 with 2 Axes>"
      ]
     },
     "metadata": {
      "needs_background": "light"
     },
     "output_type": "display_data"
    }
   ],
   "source": [
    "sns.heatmap(cm,square = True,annot = True)"
   ]
  },
  {
   "cell_type": "code",
   "execution_count": null,
   "metadata": {
    "executionInfo": {
     "elapsed": 7,
     "status": "ok",
     "timestamp": 1664820859799,
     "user": {
      "displayName": "Shreyash Jagdale",
      "userId": "16622866640788809189"
     },
     "user_tz": -330
    },
    "id": "y6Ww33BM5260"
   },
   "outputs": [],
   "source": []
  },
  {
   "cell_type": "code",
   "execution_count": 136,
   "metadata": {
    "executionInfo": {
     "elapsed": 1022,
     "status": "ok",
     "timestamp": 1664822615291,
     "user": {
      "displayName": "Shreyash Jagdale",
      "userId": "16622866640788809189"
     },
     "user_tz": -330
    },
    "id": "eHRRbKG153B9"
   },
   "outputs": [
    {
     "ename": "ModuleNotFoundError",
     "evalue": "No module named 'graphviz'",
     "output_type": "error",
     "traceback": [
      "\u001b[1;31m---------------------------------------------------------------------------\u001b[0m",
      "\u001b[1;31mModuleNotFoundError\u001b[0m                       Traceback (most recent call last)",
      "Input \u001b[1;32mIn [136]\u001b[0m, in \u001b[0;36m<cell line: 4>\u001b[1;34m()\u001b[0m\n\u001b[0;32m      2\u001b[0m \u001b[38;5;28;01mfrom\u001b[39;00m \u001b[38;5;21;01msklearn\u001b[39;00m \u001b[38;5;28;01mimport\u001b[39;00m tree\n\u001b[0;32m      3\u001b[0m \u001b[38;5;28;01mfrom\u001b[39;00m \u001b[38;5;21;01mIPython\u001b[39;00m\u001b[38;5;21;01m.\u001b[39;00m\u001b[38;5;21;01mdisplay\u001b[39;00m \u001b[38;5;28;01mimport\u001b[39;00m SVG\n\u001b[1;32m----> 4\u001b[0m \u001b[38;5;28;01mfrom\u001b[39;00m \u001b[38;5;21;01mgraphviz\u001b[39;00m \u001b[38;5;28;01mimport\u001b[39;00m Source\n\u001b[0;32m      5\u001b[0m \u001b[38;5;28;01mfrom\u001b[39;00m \u001b[38;5;21;01mIPython\u001b[39;00m\u001b[38;5;21;01m.\u001b[39;00m\u001b[38;5;21;01mdisplay\u001b[39;00m \u001b[38;5;28;01mimport\u001b[39;00m display\n",
      "\u001b[1;31mModuleNotFoundError\u001b[0m: No module named 'graphviz'"
     ]
    }
   ],
   "source": [
    "from sklearn.tree import DecisionTreeClassifier,export_graphviz\n",
    "from sklearn import tree\n",
    "from IPython.display import SVG\n",
    "from graphviz import Source\n",
    "from IPython.display import display"
   ]
  },
  {
   "cell_type": "code",
   "execution_count": 137,
   "metadata": {
    "colab": {
     "base_uri": "https://localhost:8080/"
    },
    "executionInfo": {
     "elapsed": 1025,
     "status": "ok",
     "timestamp": 1664822637440,
     "user": {
      "displayName": "Shreyash Jagdale",
      "userId": "16622866640788809189"
     },
     "user_tz": -330
    },
    "id": "8YjLN9gQ53uV",
    "outputId": "59c99b33-dde5-4b65-e745-51ca0c07110b"
   },
   "outputs": [
    {
     "data": {
      "text/plain": [
       "DecisionTreeClassifier(criterion='entropy', max_leaf_nodes=4, random_state=0)"
      ]
     },
     "execution_count": 137,
     "metadata": {},
     "output_type": "execute_result"
    }
   ],
   "source": [
    "classf = DecisionTreeClassifier(criterion='entropy', max_leaf_nodes=4, random_state=0)\n",
    "classf.fit(X_train,y_train)"
   ]
  },
  {
   "cell_type": "code",
   "execution_count": 138,
   "metadata": {
    "executionInfo": {
     "elapsed": 10,
     "status": "ok",
     "timestamp": 1664822640100,
     "user": {
      "displayName": "Shreyash Jagdale",
      "userId": "16622866640788809189"
     },
     "user_tz": -330
    },
    "id": "i9QFYZqT6IWQ"
   },
   "outputs": [],
   "source": [
    "y_predicted = classf.predict(X_test)"
   ]
  },
  {
   "cell_type": "code",
   "execution_count": 139,
   "metadata": {
    "colab": {
     "base_uri": "https://localhost:8080/"
    },
    "executionInfo": {
     "elapsed": 10,
     "status": "ok",
     "timestamp": 1664822640102,
     "user": {
      "displayName": "Shreyash Jagdale",
      "userId": "16622866640788809189"
     },
     "user_tz": -330
    },
    "id": "8w2DlAcm6kJF",
    "outputId": "4ed101fe-f049-4697-8ad2-8e1fd50c09a8"
   },
   "outputs": [
    {
     "data": {
      "text/plain": [
       "array([1, 1, 1, 1, 1, 1, 1, 1, 1, 1, 1, 1, 2, 1, 2, 1, 1, 1, 1, 1, 1, 1,\n",
       "       1], dtype=int64)"
      ]
     },
     "execution_count": 139,
     "metadata": {},
     "output_type": "execute_result"
    }
   ],
   "source": [
    "y_predicted"
   ]
  },
  {
   "cell_type": "code",
   "execution_count": 140,
   "metadata": {
    "colab": {
     "base_uri": "https://localhost:8080/"
    },
    "executionInfo": {
     "elapsed": 12,
     "status": "ok",
     "timestamp": 1664822640649,
     "user": {
      "displayName": "Shreyash Jagdale",
      "userId": "16622866640788809189"
     },
     "user_tz": -330
    },
    "id": "FHEvzy8TCX0Q",
    "outputId": "b749ff82-d641-4125-c889-e5ec665e4196"
   },
   "outputs": [
    {
     "data": {
      "text/plain": [
       "0.6086956521739131"
      ]
     },
     "execution_count": 140,
     "metadata": {},
     "output_type": "execute_result"
    }
   ],
   "source": [
    "accuracy_score(y_predicted , y_test)"
   ]
  },
  {
   "cell_type": "code",
   "execution_count": 141,
   "metadata": {
    "colab": {
     "base_uri": "https://localhost:8080/",
     "height": 599
    },
    "executionInfo": {
     "elapsed": 776,
     "status": "ok",
     "timestamp": 1664822644419,
     "user": {
      "displayName": "Shreyash Jagdale",
      "userId": "16622866640788809189"
     },
     "user_tz": -330
    },
    "id": "UU6Ur4po9x-E",
    "outputId": "96198029-4f42-40b8-9a6a-1ee3c1f53831"
   },
   "outputs": [
    {
     "ename": "NameError",
     "evalue": "name 'Source' is not defined",
     "output_type": "error",
     "traceback": [
      "\u001b[1;31m---------------------------------------------------------------------------\u001b[0m",
      "\u001b[1;31mNameError\u001b[0m                                 Traceback (most recent call last)",
      "Input \u001b[1;32mIn [141]\u001b[0m, in \u001b[0;36m<cell line: 1>\u001b[1;34m()\u001b[0m\n\u001b[1;32m----> 1\u001b[0m graph \u001b[38;5;241m=\u001b[39m \u001b[43mSource\u001b[49m(tree\u001b[38;5;241m.\u001b[39mexport_graphviz(classf, out_file\u001b[38;5;241m=\u001b[39m\u001b[38;5;28;01mNone\u001b[39;00m\n\u001b[0;32m      2\u001b[0m    , feature_names\u001b[38;5;241m=\u001b[39mindependent_variables, class_names\u001b[38;5;241m=\u001b[39m[\u001b[38;5;124m'\u001b[39m\u001b[38;5;124m0\u001b[39m\u001b[38;5;124m'\u001b[39m, \u001b[38;5;124m'\u001b[39m\u001b[38;5;124m1\u001b[39m\u001b[38;5;124m'\u001b[39m , \u001b[38;5;124m'\u001b[39m\u001b[38;5;124m2\u001b[39m\u001b[38;5;124m'\u001b[39m] \n\u001b[0;32m      3\u001b[0m    , filled \u001b[38;5;241m=\u001b[39m \u001b[38;5;28;01mTrue\u001b[39;00m))\n\u001b[0;32m      4\u001b[0m display(SVG(graph\u001b[38;5;241m.\u001b[39mpipe(\u001b[38;5;28mformat\u001b[39m\u001b[38;5;241m=\u001b[39m\u001b[38;5;124m'\u001b[39m\u001b[38;5;124msvg\u001b[39m\u001b[38;5;124m'\u001b[39m)))\n",
      "\u001b[1;31mNameError\u001b[0m: name 'Source' is not defined"
     ]
    }
   ],
   "source": [
    "graph = Source(tree.export_graphviz(classf, out_file=None\n",
    "   , feature_names=independent_variables, class_names=['0', '1' , '2'] \n",
    "   , filled = True))\n",
    "display(SVG(graph.pipe(format='svg')))"
   ]
  },
  {
   "cell_type": "code",
   "execution_count": null,
   "metadata": {
    "id": "2p5qzPYW2L9d"
   },
   "outputs": [],
   "source": []
  },
  {
   "cell_type": "code",
   "execution_count": 142,
   "metadata": {
    "executionInfo": {
     "elapsed": 850,
     "status": "ok",
     "timestamp": 1664823227259,
     "user": {
      "displayName": "Shreyash Jagdale",
      "userId": "16622866640788809189"
     },
     "user_tz": -330
    },
    "id": "E8I5PdwM2RwX"
   },
   "outputs": [],
   "source": [
    "from sklearn.ensemble import RandomForestClassifier\n",
    "from sklearn.metrics import roc_auc_score, confusion_matrix, accuracy_score\n",
    "from pylab import rcParams\n",
    "rcParams['figure.figsize'] = 8, 8"
   ]
  },
  {
   "cell_type": "code",
   "execution_count": 143,
   "metadata": {
    "colab": {
     "base_uri": "https://localhost:8080/"
    },
    "executionInfo": {
     "elapsed": 36,
     "status": "ok",
     "timestamp": 1664823228125,
     "user": {
      "displayName": "Shreyash Jagdale",
      "userId": "16622866640788809189"
     },
     "user_tz": -330
    },
    "id": "h2Gqu4s52R6_",
    "outputId": "cf616b4f-2d49-479e-c224-fd373f30f9db"
   },
   "outputs": [
    {
     "data": {
      "text/plain": [
       "RandomForestClassifier()"
      ]
     },
     "execution_count": 143,
     "metadata": {},
     "output_type": "execute_result"
    }
   ],
   "source": [
    "classifier = RandomForestClassifier(n_estimators=100)\n",
    "classifier.fit(X_train, y_train)"
   ]
  },
  {
   "cell_type": "code",
   "execution_count": 144,
   "metadata": {
    "executionInfo": {
     "elapsed": 33,
     "status": "ok",
     "timestamp": 1664823228128,
     "user": {
      "displayName": "Shreyash Jagdale",
      "userId": "16622866640788809189"
     },
     "user_tz": -330
    },
    "id": "HhY5ckif2SDn"
   },
   "outputs": [],
   "source": [
    "test_preds_  = classifier.predict(X_test)\n",
    "train_preds_ = classifier.predict(X_train)"
   ]
  },
  {
   "cell_type": "code",
   "execution_count": 145,
   "metadata": {
    "colab": {
     "base_uri": "https://localhost:8080/"
    },
    "executionInfo": {
     "elapsed": 33,
     "status": "ok",
     "timestamp": 1664823228130,
     "user": {
      "displayName": "Shreyash Jagdale",
      "userId": "16622866640788809189"
     },
     "user_tz": -330
    },
    "id": "-FqBnExi3eiP",
    "outputId": "c8f167ac-8c3c-4c72-e7c2-f0607441e1b3"
   },
   "outputs": [
    {
     "data": {
      "text/plain": [
       "0.5652173913043478"
      ]
     },
     "execution_count": 145,
     "metadata": {},
     "output_type": "execute_result"
    }
   ],
   "source": [
    "accuracy_score(y_test , test_preds_)"
   ]
  },
  {
   "cell_type": "code",
   "execution_count": 146,
   "metadata": {
    "colab": {
     "base_uri": "https://localhost:8080/"
    },
    "executionInfo": {
     "elapsed": 598,
     "status": "ok",
     "timestamp": 1664823231944,
     "user": {
      "displayName": "Shreyash Jagdale",
      "userId": "16622866640788809189"
     },
     "user_tz": -330
    },
    "id": "nRncwt6Y4xJE",
    "outputId": "aab0603a-3f70-451a-bf45-88f2489c3402"
   },
   "outputs": [
    {
     "data": {
      "text/plain": [
       "array([[ 0,  1,  0],\n",
       "       [ 0, 13,  3],\n",
       "       [ 0,  6,  0]], dtype=int64)"
      ]
     },
     "execution_count": 146,
     "metadata": {},
     "output_type": "execute_result"
    }
   ],
   "source": [
    "confusion_matrix(y_test , test_preds_)"
   ]
  },
  {
   "cell_type": "code",
   "execution_count": 147,
   "metadata": {
    "colab": {
     "base_uri": "https://localhost:8080/"
    },
    "executionInfo": {
     "elapsed": 13,
     "status": "ok",
     "timestamp": 1664575997336,
     "user": {
      "displayName": "Shreyash Jagdale",
      "userId": "16622866640788809189"
     },
     "user_tz": -330
    },
    "id": "BaLqNRRXCKzv",
    "outputId": "96363c75-84bd-4b60-eaaf-d67d212ae06d"
   },
   "outputs": [
    {
     "data": {
      "text/plain": [
       "bp                0.223691\n",
       "core_temp_stbl    0.172899\n",
       "o2_satur          0.156341\n",
       "bp_stbl           0.120050\n",
       "comfort           0.107995\n",
       "surf_temp         0.096341\n",
       "core_temp         0.061602\n",
       "surf_temp_stbl    0.061082\n",
       "dtype: float64"
      ]
     },
     "execution_count": 147,
     "metadata": {},
     "output_type": "execute_result"
    }
   ],
   "source": [
    "feature_imp = pd.Series(classifier.feature_importances_, index = independent_variables).sort_values(ascending = False)\n",
    "feature_imp"
   ]
  },
  {
   "cell_type": "code",
   "execution_count": null,
   "metadata": {
    "id": "Kh0KRDqjE2lh"
   },
   "outputs": [],
   "source": []
  },
  {
   "cell_type": "code",
   "execution_count": 148,
   "metadata": {
    "executionInfo": {
     "elapsed": 1054,
     "status": "ok",
     "timestamp": 1664823242027,
     "user": {
      "displayName": "Shreyash Jagdale",
      "userId": "16622866640788809189"
     },
     "user_tz": -330
    },
    "id": "jK-KbsRMataT"
   },
   "outputs": [],
   "source": [
    "from sklearn.svm import SVC\n",
    "SVC_model = SVC().fit(X_train , y_train)"
   ]
  },
  {
   "cell_type": "code",
   "execution_count": 149,
   "metadata": {
    "executionInfo": {
     "elapsed": 22,
     "status": "ok",
     "timestamp": 1664823242874,
     "user": {
      "displayName": "Shreyash Jagdale",
      "userId": "16622866640788809189"
     },
     "user_tz": -330
    },
    "id": "CF4SHSoabTNa"
   },
   "outputs": [],
   "source": [
    "test_p = SVC_model.predict(X_test)"
   ]
  },
  {
   "cell_type": "code",
   "execution_count": 150,
   "metadata": {
    "colab": {
     "base_uri": "https://localhost:8080/"
    },
    "executionInfo": {
     "elapsed": 19,
     "status": "ok",
     "timestamp": 1664823242877,
     "user": {
      "displayName": "Shreyash Jagdale",
      "userId": "16622866640788809189"
     },
     "user_tz": -330
    },
    "id": "T_V9vMJQbpJ-",
    "outputId": "3ef5025d-b647-438b-b52b-f281af444da6"
   },
   "outputs": [
    {
     "data": {
      "text/plain": [
       "0.6956521739130435"
      ]
     },
     "execution_count": 150,
     "metadata": {},
     "output_type": "execute_result"
    }
   ],
   "source": [
    "accuracy_score(test_p , y_test)"
   ]
  },
  {
   "cell_type": "code",
   "execution_count": null,
   "metadata": {
    "id": "HBHNAQMUb6AX"
   },
   "outputs": [],
   "source": []
  },
  {
   "cell_type": "code",
   "execution_count": null,
   "metadata": {
    "id": "wWOhV3TfgxjW"
   },
   "outputs": [],
   "source": []
  },
  {
   "cell_type": "code",
   "execution_count": 151,
   "metadata": {
    "executionInfo": {
     "elapsed": 559,
     "status": "ok",
     "timestamp": 1664823001885,
     "user": {
      "displayName": "Shreyash Jagdale",
      "userId": "16622866640788809189"
     },
     "user_tz": -330
    },
    "id": "cDHQyQX7hV7X"
   },
   "outputs": [],
   "source": [
    "from sklearn.neighbors import KNeighborsClassifier\n",
    " \n",
    "knn = KNeighborsClassifier(n_neighbors = 13)\n",
    " \n",
    "knn.fit(X_train, y_train)\n",
    "pred = knn.predict(X_test)\n"
   ]
  },
  {
   "cell_type": "code",
   "execution_count": 152,
   "metadata": {
    "colab": {
     "base_uri": "https://localhost:8080/"
    },
    "executionInfo": {
     "elapsed": 569,
     "status": "ok",
     "timestamp": 1664823004349,
     "user": {
      "displayName": "Shreyash Jagdale",
      "userId": "16622866640788809189"
     },
     "user_tz": -330
    },
    "id": "5gDrPfRIho0e",
    "outputId": "45eda923-2033-4128-b750-4daae8871403"
   },
   "outputs": [
    {
     "data": {
      "text/plain": [
       "0.6956521739130435"
      ]
     },
     "execution_count": 152,
     "metadata": {},
     "output_type": "execute_result"
    }
   ],
   "source": [
    "accuracy_score(pred , y_test)"
   ]
  },
  {
   "cell_type": "code",
   "execution_count": 153,
   "metadata": {
    "colab": {
     "base_uri": "https://localhost:8080/"
    },
    "executionInfo": {
     "elapsed": 1050,
     "status": "ok",
     "timestamp": 1664823009169,
     "user": {
      "displayName": "Shreyash Jagdale",
      "userId": "16622866640788809189"
     },
     "user_tz": -330
    },
    "id": "05TZ0YfShXZu",
    "outputId": "ea226932-29df-488b-920f-bfe950faf526"
   },
   "outputs": [
    {
     "name": "stdout",
     "output_type": "stream",
     "text": [
      "[[ 0  1  0]\n",
      " [ 0 16  0]\n",
      " [ 0  6  0]]\n",
      "              precision    recall  f1-score   support\n",
      "\n",
      "           0       0.00      0.00      0.00         1\n",
      "           1       0.70      1.00      0.82        16\n",
      "           2       0.00      0.00      0.00         6\n",
      "\n",
      "    accuracy                           0.70        23\n",
      "   macro avg       0.23      0.33      0.27        23\n",
      "weighted avg       0.48      0.70      0.57        23\n",
      "\n"
     ]
    },
    {
     "name": "stderr",
     "output_type": "stream",
     "text": [
      "C:\\ProgramData\\Anaconda3\\lib\\site-packages\\sklearn\\metrics\\_classification.py:1318: UndefinedMetricWarning: Precision and F-score are ill-defined and being set to 0.0 in labels with no predicted samples. Use `zero_division` parameter to control this behavior.\n",
      "  _warn_prf(average, modifier, msg_start, len(result))\n",
      "C:\\ProgramData\\Anaconda3\\lib\\site-packages\\sklearn\\metrics\\_classification.py:1318: UndefinedMetricWarning: Precision and F-score are ill-defined and being set to 0.0 in labels with no predicted samples. Use `zero_division` parameter to control this behavior.\n",
      "  _warn_prf(average, modifier, msg_start, len(result))\n",
      "C:\\ProgramData\\Anaconda3\\lib\\site-packages\\sklearn\\metrics\\_classification.py:1318: UndefinedMetricWarning: Precision and F-score are ill-defined and being set to 0.0 in labels with no predicted samples. Use `zero_division` parameter to control this behavior.\n",
      "  _warn_prf(average, modifier, msg_start, len(result))\n"
     ]
    }
   ],
   "source": [
    "from sklearn.metrics import classification_report, confusion_matrix\n",
    "print(confusion_matrix(y_test, pred))\n",
    " \n",
    "print(classification_report(y_test, pred))"
   ]
  },
  {
   "cell_type": "code",
   "execution_count": 154,
   "metadata": {
    "colab": {
     "base_uri": "https://localhost:8080/",
     "height": 498
    },
    "executionInfo": {
     "elapsed": 887,
     "status": "ok",
     "timestamp": 1664822980404,
     "user": {
      "displayName": "Shreyash Jagdale",
      "userId": "16622866640788809189"
     },
     "user_tz": -330
    },
    "id": "fiAd3n9BKqwH",
    "outputId": "2703fb00-d0f2-4f40-e797-b0d3e1470894"
   },
   "outputs": [
    {
     "data": {
      "image/png": "[encoded data removed]",
      "text/plain": [
       "<Figure size 576x576 with 1 Axes>"
      ]
     },
     "metadata": {
      "needs_background": "light"
     },
     "output_type": "display_data"
    }
   ],
   "source": [
    "neighbors = np.arange(1, 20)\n",
    "train_accuracy = np.empty(len(neighbors))\n",
    "test_accuracy = np.empty(len(neighbors))\n",
    "  \n",
    "for i, k in enumerate(neighbors):\n",
    "    knn = KNeighborsClassifier(n_neighbors=k)\n",
    "    knn.fit(X_train, y_train)\n",
    "        \n",
    "    train_accuracy[i] = knn.score(X_train, y_train)\n",
    "    test_accuracy[i] = knn.score(X_test, y_test)\n",
    "  \n",
    "plt.plot(neighbors, test_accuracy, label = 'Testing dataset Accuracy')\n",
    "plt.plot(neighbors, train_accuracy, label = 'Training dataset Accuracy')\n",
    "  \n",
    "plt.legend()\n",
    "plt.xlabel('n_neighbors')\n",
    "plt.ylabel('Accuracy')\n",
    "plt.show()"
   ]
  },
  {
   "cell_type": "code",
   "execution_count": 155,
   "metadata": {
    "executionInfo": {
     "elapsed": 714,
     "status": "ok",
     "timestamp": 1664822673653,
     "user": {
      "displayName": "Shreyash Jagdale",
      "userId": "16622866640788809189"
     },
     "user_tz": -330
    },
    "id": "jfzywgxDb6Mc"
   },
   "outputs": [],
   "source": [
    "from sklearn.neighbors import KNeighborsClassifier"
   ]
  },
  {
   "cell_type": "code",
   "execution_count": 156,
   "metadata": {
    "executionInfo": {
     "elapsed": 30,
     "status": "ok",
     "timestamp": 1664822674546,
     "user": {
      "displayName": "Shreyash Jagdale",
      "userId": "16622866640788809189"
     },
     "user_tz": -330
    },
    "id": "YNmhRthWcmHp"
   },
   "outputs": [],
   "source": [
    "knn_model = KNeighborsClassifier(n_neighbors=4).fit(X_train, y_train)"
   ]
  },
  {
   "cell_type": "code",
   "execution_count": 157,
   "metadata": {
    "executionInfo": {
     "elapsed": 30,
     "status": "ok",
     "timestamp": 1664822674549,
     "user": {
      "displayName": "Shreyash Jagdale",
      "userId": "16622866640788809189"
     },
     "user_tz": -330
    },
    "id": "QZBFhOQEc5s4"
   },
   "outputs": [],
   "source": [
    "tst_p = knn_model.predict(X_test)"
   ]
  },
  {
   "cell_type": "code",
   "execution_count": 158,
   "metadata": {
    "colab": {
     "base_uri": "https://localhost:8080/"
    },
    "executionInfo": {
     "elapsed": 30,
     "status": "ok",
     "timestamp": 1664822674551,
     "user": {
      "displayName": "Shreyash Jagdale",
      "userId": "16622866640788809189"
     },
     "user_tz": -330
    },
    "id": "UpZ_U8I8dIxK",
    "outputId": "32c9789c-0887-4bd5-8ffc-15a1a6b63b05"
   },
   "outputs": [
    {
     "data": {
      "text/plain": [
       "0.6086956521739131"
      ]
     },
     "execution_count": 158,
     "metadata": {},
     "output_type": "execute_result"
    }
   ],
   "source": [
    "accuracy_score(y_test , tst_p)"
   ]
  },
  {
   "cell_type": "code",
   "execution_count": null,
   "metadata": {
    "id": "8MkDy8dzdR54"
   },
   "outputs": [],
   "source": []
  },
  {
   "cell_type": "code",
   "execution_count": null,
   "metadata": {},
   "outputs": [],
   "source": []
  }
 ],
 "metadata": {
  "colab": {
   "authorship_tag": "ABX9TyOt1smUe4Wqh4kEXPEt08gf",
   "collapsed_sections": [],
   "provenance": []
  },
  "kernelspec": {
   "display_name": "Python 3 (ipykernel)",
   "language": "python",
   "name": "python3"
  },
  "language_info": {
   "codemirror_mode": {
    "name": "ipython",
    "version": 3
   },
   "file_extension": ".py",
   "mimetype": "text/x-python",
   "name": "python",
   "nbconvert_exporter": "python",
   "pygments_lexer": "ipython3",
   "version": "3.9.12"
  },
  "vscode": {
   "interpreter": {
    "hash": "369f2c481f4da34e4445cda3fffd2e751bd1c4d706f27375911949ba6bb62e1c"
   }
  }
 },
 "nbformat": 4,
 "nbformat_minor": 1
}
